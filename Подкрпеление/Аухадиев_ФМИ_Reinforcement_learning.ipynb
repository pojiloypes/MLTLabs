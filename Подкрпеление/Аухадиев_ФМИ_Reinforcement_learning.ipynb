{
  "cells": [
    {
      "cell_type": "markdown",
      "metadata": {
        "id": "m2s4kN_QPQVe"
      },
      "source": [
        "# Введение в обучение с подкреплением  (Reinforcement Learning)\n",
        "\n",
        "\n",
        "<center>\n",
        "<img src=\"https://raw.githubusercontent.com/jcformanek/jcformanek.github.io/master/docs/assets/images/rl_in_space.png\" width=\"100%\" />\n",
        "</center>\n",
        "\n",
        "\n",
        "\n",
        "**Введение**\n",
        "\n",
        "На этом семинаре мы изучим обучение с подкреплением - тип машинного обучения без учителя, где агент учится выбирать действия, которые приводят к максимальному вознаграждению в долгосрочной перспективе. Обучение с подкреплением используется в широком спектре сложных задач, в том числе - в видеоиграх, например, [Atari](https://www.deepmind.com/blog/agent57-outperforming-the-human-atari-benchmark), [StarCraft II](https://www.deepmind.com/blog/alphastar-mastering-the-real-time-strategy-game-starcraft-ii) и [Dota II](https://openai.com/five/).\n",
        "\n",
        "На семинаре изучим классическую среду - [CartPole](https://www.gymlibrary.ml/environments/classic_control/cart_pole/), где агент должен научиться балансировать шестом на тележке (см лекцию), используя несколько различных подходов RL. По пути вы познакомитесь с некоторыми из самых важных концепций и терминологии в RL.\n",
        "\n",
        "**Темы:**\n",
        "* Reinforcement Learning (RL, Обучение с подкреплением)\n",
        "* Random Policy Search (Случайный поиск политики)\n",
        "* Policy Gradient (Градиент политики)\n",
        "* Q-Learning\n",
        "\n",
        "\n",
        "**Что надо сделать для лучшего понимания:**\n",
        "\n",
        "* почитать про библиотеку [JAX](https://github.com/google/jax).\n",
        "* вспомнить нейроки.\n",
        "\n"
      ]
    },
    {
      "cell_type": "markdown",
      "metadata": {
        "id": "6EqhIg1odqg0"
      },
      "source": [
        "### Настраиваем среду"
      ]
    },
    {
      "cell_type": "code",
      "execution_count": 1,
      "metadata": {
        "id": "4boGA9rYdt9l"
      },
      "outputs": [],
      "source": [
        "# @title Установка необходимых пакетов (надо просто запустить!) { display-mode: \"form\" }\n",
        "# @markdown Может занять несколько минут\n",
        "%%capture\n",
        "!pip install jaxlib\n",
        "!pip install jax\n",
        "!pip install git+https://github.com/deepmind/dm-haiku\n",
        "!pip install gym==0.25\n",
        "!pip install gym[box2d]\n",
        "!pip install optax\n",
        "!pip install matplotlib\n",
        "!pip install chex\n",
        "!pip install gym[classic_control]"
      ]
    },
    {
      "cell_type": "code",
      "execution_count": 2,
      "metadata": {
        "id": "gwbqggmcRjMy"
      },
      "outputs": [],
      "source": [
        "# @title Импорт необходимых пакетов (просто запустите ячейку) { display-mode: \"form\" }\n",
        "%%capture\n",
        "import copy\n",
        "from shutil import rmtree # deleting directories\n",
        "import random\n",
        "import collections # useful data structures\n",
        "import numpy as np\n",
        "import gym # reinforcement learning environments\n",
        "from gym.wrappers import RecordVideo\n",
        "import jax\n",
        "import jax.numpy as jnp # jax numpy\n",
        "import haiku as hk # jax neural network library\n",
        "import optax # jax optimizer library\n",
        "import matplotlib.pyplot as plt # graph plotting library\n",
        "from IPython.display import HTML\n",
        "from base64 import b64encode\n",
        "import chex\n",
        "\n",
        "# Hide warnings\n",
        "import warnings\n",
        "warnings.filterwarnings('ignore')"
      ]
    },
    {
      "cell_type": "markdown",
      "metadata": {
        "id": "-ZUp8i37dFbU"
      },
      "source": [
        "## 1. Ключевые концепции обучения с подкреплением\n",
        "\n",
        "Обучение с подкреплением (RL) является подразделом машинного обучения (ML). В отличие от таких областей, как контролируемое обучение, где мы даем примеры ожидаемого поведения нашим моделям, RL фокусируется на *целеориентированном* обучении из взаимодействий методом проб и ошибок. Алгоритмы RL изучают, что делать (т. е. какие оптимальные действия предпринять) в среде, чтобы максимизировать некий сигнал вознаграждения. В таких условиях, как видеоигра, сигналом вознаграждения может быть счет игры, т. е. алгоритмы RL будут пытаться максимизировать счет в игре, выбирая лучшие действия.\n",
        "\n",
        "<center>\n",
        "<img src=\"https://pettingzoo.farama.org/_images/environments-demo.gif\" width=\"40%\" />\n",
        "</center>\n",
        "\n",
        "[*Image Source*](https://pettingzoo.farama.org/)\n",
        "\n",
        "Другими словами, в RL у нас есть **агент**, который воспринимает **наблюдение** $o_t$ текущего состояния $s_t$ **окружающей среды** и должен выбрать **действие** $a_t$ для выполнения.\n",
        "\n",
        "Затем окружающая среда переходит в новое состояние $s_{t+1}$ в ответ на действие агента, а также дает агенту скалярное вознаграждение $r_t$, чтобы указать, насколько хорошим или плохим было выбранное действие, учитывая состояние окружающей среды.\n",
        "\n",
        "Целью в RL является максимизация агентом суммы вознаграждения, которое он получает от окружающей среды с течением времени. Нижний индекс $t$ используется для указания номера временного шага, т. е. $s_0$ - это состояние окружающей среды на начальном временном шаге, а $a_{99}$ - это действие агента на $99-м$ временном шаге."
      ]
    },
    {
      "cell_type": "markdown",
      "metadata": {
        "id": "Ghgy69hFRjMz"
      },
      "source": [
        "### Среда - OpenAI Gym\n",
        "Как упоминалось выше, среда получает от агента действие $a_t$ и возвращает вознаграждение $r_t$ и наблюдение $o_t$.\n",
        "\n",
        "OpenAI разработал пакет для Python под названием **Gym**, который включает реализации популярных сред и простой интерфейс для взаимодействия агента RL. Чтобы использовать поддерживаемую [среду gym](https://www.gymlibrary.ml/), все, что вам нужно сделать, это передать имя среды в функцию  `gym.make(<environment_name>)`.\n",
        "\n",
        "В этом уроке мы будем использовать простую среду под названием **CartPole**. В CartPole задача агента — научиться балансировать на шесте как можно дольше, перемещая тележку *влево* или *вправо*.\n",
        "\n",
        "<img src=\"https://user-images.githubusercontent.com/10854026/32486103-f15f19de-c3a5-11e7-81de-0605df939497.gif\" width=\"50%\" />"
      ]
    },
    {
      "cell_type": "code",
      "execution_count": 3,
      "metadata": {
        "id": "WfxzajMYRjMz"
      },
      "outputs": [],
      "source": [
        "# Create the environment\n",
        "env_name = \"CartPole-v0\"\n",
        "env = gym.make(env_name)"
      ]
    },
    {
      "cell_type": "markdown",
      "metadata": {
        "id": "y_BbftaJj3zu"
      },
      "source": [
        "### Состояние (States) и Наблюдение (Observations) - $s_t$ and $o_t$\n",
        "\n",
        "В RL агент воспринимает наблюдение за состоянием среды. В некоторых настройках наблюдение может включать всю информацию, лежащую в основе состояния среды. Такая среда называется **полностью наблюдаемой**. В других настройках агент может получать только частичную информацию о состоянии среды в своем наблюдении. Такая среда называется **частично наблюдаемой**.\n",
        "\n",
        "В оставшейся части этого руководства мы будем предполагать, что среда полностью наблюдаема, и поэтому будем использовать состояние $s_t$ и наблюдение $o_t$ взаимозаменяемо. В Gym мы получаем начальное наблюдение из среды, вызывая функцию `env.reset()`."
      ]
    },
    {
      "cell_type": "code",
      "execution_count": 4,
      "metadata": {
        "id": "HdS8nqOgRjM0",
        "colab": {
          "base_uri": "https://localhost:8080/"
        },
        "outputId": "293c0380-d872-40f0-90c7-980249cc4028"
      },
      "outputs": [
        {
          "output_type": "stream",
          "name": "stdout",
          "text": [
            "Initial State:: [-0.00546905 -0.04690116  0.02531915 -0.02184463]\n",
            "Environment Obs Space Shape: (4,)\n"
          ]
        }
      ],
      "source": [
        "# Reset the environment\n",
        "s_0 = env.reset()\n",
        "print(\"Initial State::\", s_0)\n",
        "\n",
        "# Get environment obs space\n",
        "obs_shape = env.observation_space.shape\n",
        "print(\"Environment Obs Space Shape:\", obs_shape)"
      ]
    },
    {
      "cell_type": "markdown",
      "metadata": {
        "id": "pUNX6mbotABo"
      },
      "source": [
        "В CartPole состояние окружающей среды представлено четырьмя числами: *угловое положение полюса, угловая скорость полюса, положение тележки, скорость тележки*."
      ]
    },
    {
      "cell_type": "markdown",
      "metadata": {
        "id": "hL1Nkgy7nUfn"
      },
      "source": [
        "### Действия (Actions) - $a_t$\n",
        "\n",
        "В RL действия обычно либо **дискретные**, либо **непрерывные**. Непрерывные действия задаются вектором действительных чисел. Дискретные действия задаются целочисленным значением. В средах, где мы можем подсчитать конечный набор действий, мы обычно используем дискретные действия.\n",
        "\n",
        "В CartPole есть только два действия: *влево* и *вправо*. Таким образом, действия могут быть представлены целыми числами $0$ и $1$. В gym мы можем легко получить список возможных действий следующим образом:"
      ]
    },
    {
      "cell_type": "code",
      "execution_count": 5,
      "metadata": {
        "id": "uOLZqU_LpIXh",
        "colab": {
          "base_uri": "https://localhost:8080/"
        },
        "outputId": "d8ee126f-ec78-47c3-a37a-c5ac84c8423f"
      },
      "outputs": [
        {
          "output_type": "stream",
          "name": "stdout",
          "text": [
            "Environment action space: Discrete(2)\n",
            "Number of actions: 2\n"
          ]
        }
      ],
      "source": [
        "# Get action space - e.g. discrete or continuous\n",
        "print(f\"Environment action space: {env.action_space}\")\n",
        "\n",
        "# Get num actions\n",
        "num_actions = env.action_space.n\n",
        "print(f\"Number of actions: {num_actions}\")"
      ]
    },
    {
      "cell_type": "markdown",
      "metadata": {
        "id": "tRsflxbDpoPm"
      },
      "source": [
        "### Политика агента (The Agent's Policy) - $\\pi$\n",
        "\n",
        "В RL агент выбирает действия на основе полученных наблюдений. Мы можем представить процесс выбора действия агента как функцию, которая принимает наблюдение в качестве входных данных и возвращает действие в качестве выходных данных. В RL мы обычно называем эту функцию **политикой** агента и обозначаем ее $\\pi(s_t)=a_t$. В RL мы обычно параметризуем нашу политику каким-либо образом, а затем пытаемся узнать оптимальные параметры. Параметризованная политика обычно обозначается $\\pi_\\theta$, где $\\theta$ — это набор параметров.\n",
        "\n",
        "**Упражнение 1:** В качестве упражнения давайте реализуем простую политику, которая принимает набор параметров и наблюдение в качестве входных данных и возвращает действие. Предположим, что наблюдение — это вектор из четырех чисел, как наблюдение CartPole, и что действие должно быть либо $0$, либо $1$. Предположим также, что параметры — это вектор из четырех действительных чисел. Тогда действие должно быть вычислено следующим образом.\n",
        "\n",
        "\n",
        "1. Вычислите [скалярное произведение векторов](https://www.mathsisfun.com/algebra/vectors-dot-product.html) между наблюдением и параметрами.\n",
        "2. Если результат больше нуля, верните действие $1$.\n",
        "3. В противном случае верните действие $0$.\n",
        "\n",
        "В этом упражнении мы постараемся использовать JAX как можно чаще. Поэтому постарайтесь использовать методы JAX для этой задачи. Ниже приведены некоторые полезные методы, которые вы можете использовать. Вам нужно будет завершить код в блоке ниже, заменив `...` правильным кодом.\n",
        "\n",
        "\n",
        "**Полезные методы:**\n",
        "* Вычислите скалярное произведение векторов с помощью `jax.numpy.dot` ([docs](https://jax.readthedocs.io/en/latest/_autosummary/jax.numpy.dot.html)).\n",
        "\n",
        "* Когда вы пытаетесь условно присвоить значение $0$ или $1$ действию на основе результата скалярного произведения, вам следует использовать `jax.lax.select` ([docs](https://jax.readthedocs.io/en/latest/_autosummary/jax.lax.select.html#jax.lax.select)).\n",
        "\n",
        "Метод `jax.lax.select` принимает три аргумента в качестве входных данных. Первый аргумент — это оператор, который будет оцениваться как `True` или `False`.\n",
        "\n",
        "Если оператор равен `True`, то `jax.lax.select` вернет свой второй аргумент.\n",
        "\n",
        "Если оператор имеет значение `False`, `jax.lax.select` вернет свой третий аргумент.\n",
        "\n"
      ]
    },
    {
      "cell_type": "code",
      "execution_count": 6,
      "metadata": {
        "id": "KSGCd7XB1z8k"
      },
      "outputs": [],
      "source": [
        "def linear_policy(params, obs):\n",
        "  \"\"\"A simple linear policy\n",
        "\n",
        "  Args:\n",
        "    params: a vector of four real-numbers that give the parameters of the policy\n",
        "    obs: a vector of four real-numbers that give the agent's observation\n",
        "\n",
        "  Returns:\n",
        "    a discrete action given by a 0 or 1\n",
        "  \"\"\"\n",
        "  # YOUR CODE\n",
        "  dot_product_result = jax.numpy.dot(params, obs)\n",
        "\n",
        "  action = jax.lax.select(\n",
        "      dot_product_result > 0, # boolean statement goes here\n",
        "      1, # result when the statement is True goes here\n",
        "      0, # result when the statement is False goes here\n",
        "  )\n",
        "  # END YOUR CODE\n",
        "  return action"
      ]
    },
    {
      "cell_type": "code",
      "execution_count": 7,
      "metadata": {
        "id": "9EnnBvceb1f3",
        "colab": {
          "base_uri": "https://localhost:8080/"
        },
        "outputId": "d10d3b30-7c12-47e7-a385-cf18327ea3df"
      },
      "outputs": [
        {
          "output_type": "stream",
          "name": "stdout",
          "text": [
            "Your function is correct!\n"
          ]
        }
      ],
      "source": [
        "# @title Проверка упр 1  { display-mode: \"form\" }\n",
        "\n",
        "def check_linear_policy(linear_policy):\n",
        "  fixed_obs = jnp.array([1,1,2,4])\n",
        "\n",
        "  # check case1 - negative dot product.\n",
        "  # weights\n",
        "  params1 = jnp.array([1,1,1,1])\n",
        "  params2 = jnp.array([-1,-1,-1,-1])\n",
        "\n",
        "  hint1 = f\"Неправильный ответ, ваша линейная политика неверна. Действие при \\\n",
        "obs={fixed_obs} и params={params1} должно быть 1\"\n",
        "\n",
        "  hint2 = f\"Неправильный ответ, ваша линейная политика неверна. Действие при \\\n",
        "obs={fixed_obs} и params={params2} должно быть 0\"\n",
        "\n",
        "  hint = None\n",
        "  if linear_policy(params1, fixed_obs) != 1:\n",
        "    hint = hint1\n",
        "  elif linear_policy(params2, fixed_obs) != 0:\n",
        "    hint = hint2\n",
        "\n",
        "  if hint is not None:\n",
        "    print(hint)\n",
        "  else:\n",
        "    print(\"Your function is correct!\")\n",
        "\n",
        "try:\n",
        "  check_linear_policy(linear_policy)\n",
        "except Exception as e:\n",
        "    print(\"An Error Occured: {}\".format(e))"
      ]
    },
    {
      "cell_type": "markdown",
      "metadata": {
        "id": "PkuvT-jf6Ieh"
      },
      "source": [
        "### Функция перехода среды - $P$\n",
        "\n",
        "Теперь, когда у нас есть политика, мы можем передавать действия от агента среде. Затем среда перейдет в новое состояние в ответ на действие агента.\n",
        "\n",
        "В RL мы моделируем этот процесс с помощью **функции перехода состояния** $P$, которая принимает текущее состояние $s_t$ и действие $a_t$ в качестве входных данных и возвращает следующее состояние $s_{t+1}$ в качестве выходных данных:\n",
        "\n",
        "<center>\n",
        "$s_{t+1}=P(s_t, a_t)$\n",
        "</center>\n",
        "\n",
        "В gym мы можем передавать действия среде, вызывая функцию `env.step(<action>)`. Затем функция вернет четыре значения:\n",
        "- **следующее наблюдение**\n",
        "- **награду** за выполненное действие\n",
        "- логический флаг, указывающий, **завершена** игра\n",
        "- некоторую **дополнительную** информацию."
      ]
    },
    {
      "cell_type": "code",
      "execution_count": 8,
      "metadata": {
        "id": "hh0j9-Tk7olb",
        "colab": {
          "base_uri": "https://localhost:8080/"
        },
        "outputId": "559ef525-bdd6-4541-9802-79f9dabddb22"
      },
      "outputs": [
        {
          "output_type": "stream",
          "name": "stdout",
          "text": [
            "Observation: [ 1.8787203e-02 -9.2136520e-07 -4.0286565e-03  2.4134295e-02]\n",
            "Action: 0\n",
            "Next observation: [ 0.01878718 -0.19506487 -0.00354597  0.3155434 ]\n",
            "Reward: 1.0\n",
            "Game is done: False\n"
          ]
        }
      ],
      "source": [
        "# Get the initial obs by resetting the env\n",
        "initial_obs = env.reset()\n",
        "\n",
        "# Randomly sample actions from env\n",
        "action = env.action_space.sample()\n",
        "\n",
        "# Step the environment\n",
        "next_obs, reward, done, info = env.step(action)\n",
        "\n",
        "print(\"Observation:\", initial_obs)\n",
        "print(\"Action:\", action)\n",
        "print(\"Next observation:\", next_obs)\n",
        "print(\"Reward:\", reward)\n",
        "print(\"Game is done:\", done)"
      ]
    },
    {
      "cell_type": "markdown",
      "metadata": {
        "id": "bX9iZtu48UYn"
      },
      "source": [
        "### Возврат эпизода - $R_t$\n",
        "\n",
        "В RL мы обычно разбиваем взаимодействие агента с окружающей средой на **эпизоды**. Сумма всех вознаграждений, собранных во время эпизода, - это то, что мы называем **возвратом** эпизода - $R_t$:\n",
        "\n",
        "<center>\n",
        "$R_t=\\sum_{t=0}^Tr_t$,\n",
        "</center>\n",
        "\n",
        "где $r_t$ - это вознаграждение в момент времени $t$, а $T$ - это последний временной шаг. Цель в RL - выбрать действия, которые максимизируют этот ожидаемый будущий возврат $R_t$."
      ]
    },
    {
      "cell_type": "markdown",
      "metadata": {
        "id": "y6KZA1Nq9p47"
      },
      "source": [
        "### Цикл агент-среда\n",
        "Теперь, когда мы знаем, что такое политика, и знаем, как пошагово проходить среду, давайте закроем цикл агент-среда.\n",
        "\n",
        "**Упражнение 2:** Напишите функцию, которая запускает один эпизод CartPole, последовательно выбирая действия и пошагово проходя среду. Вам следует использовать линейную политику, которую мы определили ранее, для выбора действий. Функция должна отслеживать полученное вознаграждение и выводить возврат в конце эпизода.\n",
        "\n",
        "В CartPole агент получает вознаграждение `1` за каждый временной шаг, когда шест все еще стоит вертикально. Если шест падает, игра заканчивается, и агент больше не получает вознаграждения. Игра также заканчивается после `200` временных шагов, поэтому максимальное вознаграждение, которое может получить агент, составляет `200`."
      ]
    },
    {
      "cell_type": "code",
      "execution_count": 9,
      "metadata": {
        "id": "Buy0X7mi-gHP"
      },
      "outputs": [],
      "source": [
        "def run_episode(env):\n",
        "  episode_return = 0 # counter to keep track of rewards\n",
        "  done = False # initially set to False\n",
        "  params = jnp.array([1,-2,2,-1]) # fixed policy parameters\n",
        "\n",
        "  ## YOUR CODE\n",
        "\n",
        "  obs = env.reset() # TODO: get the initial obs from the env\n",
        "\n",
        "  while not done: # loop until episode is done\n",
        "\n",
        "    action = linear_policy(params, obs) # TODO: compute action using linear policy\n",
        "    action = np.array(action) # We need to the convert the action from the policy to a np.array\n",
        "\n",
        "    obs, reward, done, info = env.step(action) # TODO: step the environment\n",
        "\n",
        "    episode_return += reward # TODO: add reward to episode return\n",
        "\n",
        "  return episode_return"
      ]
    },
    {
      "cell_type": "code",
      "execution_count": 10,
      "metadata": {
        "id": "bA2Orj9PVbKO",
        "colab": {
          "base_uri": "https://localhost:8080/"
        },
        "outputId": "8cedb169-ba79-41e0-f906-999b12fdcc42"
      },
      "outputs": [
        {
          "output_type": "stream",
          "name": "stdout",
          "text": [
            "Looks correct!\n"
          ]
        }
      ],
      "source": [
        "# @title Проверка упр 2 (run me) { display-mode: \"form\" }\n",
        "\n",
        "try:\n",
        "  env.seed(42)\n",
        "  if run_episode(env) == 31:\n",
        "    print(\"Looks correct!\")\n",
        "  else:\n",
        "    print(\"Looks like your implementation might be wrong.\")\n",
        "except Exception as e:\n",
        "    print(\"An Error Occured: {}\".format(e))"
      ]
    },
    {
      "cell_type": "markdown",
      "metadata": {
        "id": "fUGdzHxJnZGl"
      },
      "source": [
        "В CartPole среда считается решенной, когда агент может надежно достичь возврата эпизода 500. Как вы можете видеть, наша текущая политика далека от оптимальной.\n",
        "\n",
        "Один из способов найти оптимальную политику — это случайным образом пробовать разные политики, пока не найдем оптимальную. Эта стратегия называется случайным поиском политики и может быть на удивление эффективной.\n",
        "\n",
        "Прежде чем мы реализуем случайный поиск политики, давайте быстро рассмотрим общий цикл обучения RL, который мы будем использовать для реализации алгоритмов в оставшейся части этого руководства.\n",
        "\n",
        "### Цикл обучения RL общего назначения\n",
        "Мы реализовали для вас цикл обучения RL общего назначения. Цикл обучения принимает несколько аргументов в качестве входных данных, но три наиболее важных для понимания — это `agent_select_action_func`, `agent_learn_func` и `agent_memory`.\n",
        "\n",
        "* `agent_select_action_func` — это функция, которую мы определяем и можем передать в цикл обучения. Функция принимает наблюдение и набор `agent_params` в качестве входных данных и должна возвращать действие.\n",
        "* `agent_learn_func` — это еще один метод, который мы определяем и передаем в цикл обучения. Он должен принимать параметры агента и некоторые «воспоминания» в качестве входных данных, а затем обновлять и возвращать агентам новые параметры.\n",
        "* `agent_memory` — это модуль общего назначения, который мы определяем, который может хранить некоторую релевантную информацию об опыте агента в среде, которую можно использовать в `agent_learn_func`.\n",
        "\n",
        "Ниже приведена функция цикла обучения, которую мы реализовали для вас. Вы можете просмотреть код и попытаться понять его, но это не обязательно. Таким образом, мы скрыли код по умолчанию, просто убедитесь, что вы запустили ячейку кода, прежде чем двигаться дальше, потому что цикл обучения далее в коде."
      ]
    },
    {
      "cell_type": "code",
      "execution_count": 11,
      "metadata": {
        "id": "ZWBwz3zMRjM0"
      },
      "outputs": [],
      "source": [
        "#@title Training loop (run me) { display-mode: \"form\" }\n",
        "\n",
        "# NamedTuple to store transitions\n",
        "Transition = collections.namedtuple(\"Transition\", [\"obs\", \"action\", \"reward\", \"next_obs\", \"done\"])\n",
        "\n",
        "# Training Loop\n",
        "def run_training_loop(env_name, agent_params, agent_select_action_func,\n",
        "    agent_actor_state=None, agent_learn_func=None, agent_learner_state=None,\n",
        "    agent_memory=None, num_episodes=1000, evaluator_period=100,\n",
        "    evaluation_episodes=8, learn_steps_per_episode=1,\n",
        "    train_every_timestep=False, video_subdir=\"\",):\n",
        "    \"\"\"\n",
        "    This function runs several episodes in an environment and periodically does\n",
        "    some agent learning and evaluation.\n",
        "\n",
        "    Args:\n",
        "        env: a gym environment.\n",
        "        agent_params: an object to store parameters that the agent uses.\n",
        "        agent_select_func: a function that does action selection for the agent.\n",
        "        agent_actor_state (optional): an object that stores the internal state\n",
        "            of the agents action selection function.\n",
        "        agent_learn_func (optional): a function that does some learning for the\n",
        "            agent by updating the agent parameters.\n",
        "        agent_learn_state (optional): an object that stores the internal state\n",
        "            of the agent learn function.\n",
        "        agent_memory (optional): an object for storing an retrieving historical\n",
        "            experience.\n",
        "        num_episodes: how many episodes to run.\n",
        "        evaluator_period: how often to run evaluation.\n",
        "        evaluation_episodes: how many evaluation episodes to run.\n",
        "        train_every_timestep: whether to train every timestep rather than at the end\n",
        "            of the episode.\n",
        "        video_subdir: subdirectory to store epsiode recordings.\n",
        "\n",
        "    Returns:\n",
        "        episode_returns: list of all the episode returns.\n",
        "        evaluator_episode_returns: list of all the evaluator episode returns.\n",
        "    \"\"\"\n",
        "\n",
        "    # Setup Cartpole environment and recorder\n",
        "    env = gym.make(env_name, render_mode=\"rgb_array\") # training environment\n",
        "    eval_env = gym.make(env_name, render_mode=\"rgb_array\") # evaluation environment\n",
        "\n",
        "    # Video dir\n",
        "    video_dir = \"./video\"+\"/\"+video_subdir\n",
        "\n",
        "    # Clear video dir\n",
        "    try:\n",
        "      rmtree(video_dir)\n",
        "    except:\n",
        "      pass\n",
        "\n",
        "    # Wrap in recorder\n",
        "    env = RecordVideo(env, video_dir+\"/train\", episode_trigger=lambda x: (x % evaluator_period) == 0)\n",
        "    eval_env = RecordVideo(eval_env, video_dir+\"/eval\", episode_trigger=lambda x: (x % evaluation_episodes) == 0)\n",
        "\n",
        "    # JAX random number generator\n",
        "    rng = hk.PRNGSequence(jax.random.PRNGKey(0))\n",
        "    env.seed(0) # seed environment for reproducability\n",
        "    random.seed(0)\n",
        "\n",
        "    episode_returns = [] # List to store history of episode returns.\n",
        "    evaluator_episode_returns = [] # List to store history of evaluator returns.\n",
        "    timesteps = 0\n",
        "    for episode in range(num_episodes):\n",
        "\n",
        "        # Reset environment.\n",
        "        obs = env.reset()\n",
        "        episode_return = 0\n",
        "        done = False\n",
        "\n",
        "        while not done:\n",
        "\n",
        "            # Agent select action.\n",
        "            action, agent_actor_state = agent_select_action_func(\n",
        "                                            next(rng),\n",
        "                                            agent_params,\n",
        "                                            agent_actor_state,\n",
        "                                            np.array(obs)\n",
        "                                        )\n",
        "\n",
        "            # Step environment.\n",
        "            next_obs, reward, done, _ = env.step(int(action))\n",
        "\n",
        "            # Pack into transition.\n",
        "            transition = Transition(obs, action, reward, next_obs, done)\n",
        "\n",
        "            # Add transition to memory.\n",
        "            if agent_memory: # check if agent has memory\n",
        "              agent_memory.push(transition)\n",
        "\n",
        "            # Add reward to episode return.\n",
        "            episode_return += reward\n",
        "\n",
        "            # Set obs to next obs before next environment step. CRITICAL!!!\n",
        "            obs = next_obs\n",
        "\n",
        "            # Increment timestep counter\n",
        "            timesteps += 1\n",
        "\n",
        "            # Maybe learn every timestep\n",
        "            if train_every_timestep and (timesteps % 4 == 0) and agent_memory and agent_memory.is_ready(): # Make sure memory is ready\n",
        "                # First sample memory and then pass the result to the learn function\n",
        "                memory = agent_memory.sample()\n",
        "                agent_params, agent_learner_state = agent_learn_func(\n",
        "                                                        next(rng),\n",
        "                                                        agent_params,\n",
        "                                                        agent_learner_state,\n",
        "                                                        memory\n",
        "                                                    )\n",
        "\n",
        "        episode_returns.append(episode_return)\n",
        "\n",
        "        # At the end of every episode we do a learn step.\n",
        "        if agent_memory and agent_memory.is_ready(): # Make sure memory is ready\n",
        "\n",
        "            for _ in range(learn_steps_per_episode):\n",
        "                # First sample memory and then pass the result to the learn function\n",
        "                memory = agent_memory.sample()\n",
        "                agent_params, agent_learner_state = agent_learn_func(\n",
        "                                                        next(rng),\n",
        "                                                        agent_params,\n",
        "                                                        agent_learner_state,\n",
        "                                                        memory\n",
        "                                                    )\n",
        "\n",
        "        if (episode % evaluator_period) == 0: # Do evaluation\n",
        "\n",
        "            evaluator_episode_return = 0\n",
        "            for eval_episode in range(evaluation_episodes):\n",
        "                obs = eval_env.reset()\n",
        "                done = False\n",
        "                while not done:\n",
        "                    action, _ = agent_select_action_func(\n",
        "                                    next(rng),\n",
        "                                    agent_params,\n",
        "                                    agent_actor_state,\n",
        "                                    np.array(obs),\n",
        "                                    evaluation=True\n",
        "                                )\n",
        "\n",
        "                    obs, reward, done, _ = eval_env.step(int(action))\n",
        "\n",
        "                    evaluator_episode_return += reward\n",
        "\n",
        "            evaluator_episode_return /= evaluation_episodes\n",
        "\n",
        "            evaluator_episode_returns.append(evaluator_episode_return)\n",
        "\n",
        "            logs = [\n",
        "                    f\"Episode: {episode}\",\n",
        "                    f\"Episode Return: {episode_return}\",\n",
        "                    f\"Average Episode Return: {np.mean(episode_returns[-20:])}\",\n",
        "                    f\"Evaluator Episode Return: {evaluator_episode_return}\"\n",
        "            ]\n",
        "\n",
        "            print(*logs, sep=\"\\t\") # Print the logs\n",
        "\n",
        "    env.close()\n",
        "    eval_env.close()\n",
        "\n",
        "    return episode_returns, evaluator_episode_returns"
      ]
    },
    {
      "cell_type": "markdown",
      "metadata": {
        "id": "CTPlIq4oDBPY"
      },
      "source": [
        "##2. Случайный поиск политики (RPS)\n",
        "В разделе 1 мы использовали фиксированный набор параметров для нашей политики. То есть мы не изучали параметры $\\pi$ $\\theta$, мы просто сохранили их фиксированными ( `params = [1,-2,2,-1]`).\n",
        "\n",
        "Теперь мы реализуем случайный поиск политики (RPS), который представляет собой алгоритм, который случайным образом пробует различные параметры политики и отслеживает лучшие параметры, найденные на данный момент. Мы скажем, что параметры политики $\\theta_A$ лучше параметров $\\theta_B$, если средний возврат эпизода, достигнутый за последние 20 эпизодов политикой с параметрами $\\theta_A$, больше, чем у политики с параметрами $\\theta_B$.\n",
        "\n",
        "Чтобы отслеживать «текущие» параметры, а также «лучшие» параметры, мы будем использовать [NamedTuple](https://www.geeksforgeeks.org/namedtuple-in-python/)."
      ]
    },
    {
      "cell_type": "code",
      "execution_count": 12,
      "metadata": {
        "id": "1DcaC-PQRjM1",
        "colab": {
          "base_uri": "https://localhost:8080/"
        },
        "outputId": "b74989cb-edb2-46b4-e8bf-6f5d05b0b2b4"
      },
      "outputs": [
        {
          "output_type": "stream",
          "name": "stdout",
          "text": [
            "Best params: [0. 0. 0. 0.]\n",
            "Current params: [-1. -1. -1. -1.]\n"
          ]
        }
      ],
      "source": [
        "# Parameter container for Random Policy Search\n",
        "RandomPolicySearchParams = collections.namedtuple(\"RandomPolicySearchParams\", [\"current\", \"best\"])\n",
        "\n",
        "# TEST: store two different sets of parameters\n",
        "current_params = np.ones(obs_shape) * -1\n",
        "best_params = np.zeros(obs_shape)\n",
        "rps_params = RandomPolicySearchParams(current_params, best_params)\n",
        "\n",
        "# How to access the best or current params.\n",
        "print(f\"Best params: {rps_params.best}\")\n",
        "print(f\"Current params: {rps_params.current}\")"
      ]
    },
    {
      "cell_type": "markdown",
      "metadata": {
        "id": "v91pDDzGex9a"
      },
      "source": [
        "Далее мы реализуем следующее:\n",
        "- **Функция выбора действия RPS** - определяет, как мы выбираем действия с учетом набора параметров.\n",
        "- **Модуль памяти RPS** - определяет, какой опыт хранить из взаимодействий со средой.\n",
        "- **Функция обучения RPS** - определяет, как мы обновляем и улучшаем параметры нашей политики."
      ]
    },
    {
      "cell_type": "markdown",
      "metadata": {
        "id": "0tExceGeGNYH"
      },
      "source": [
        "### Функция выбора действия RPS\n",
        "Давайте реализуем функцию с именем `random_policy_search_choose_action`, которую мы можем передать в цикл обучения. Функция должна принимать несколько аргументов, чтобы она могла хорошо взаимодействовать с нашим обобщенным циклом обучения, но вам нужно будет использовать только три из них - `params`, `obs` и `evaluation`.\n",
        "\n",
        "- `params` - это экземпляр `RandomPolicySearchParams` с \"current\" и \"best\".\n",
        "- `obs` - это последнее наблюдение из среды.\n",
        "- `evaluation` - это логическое значение, которое указывает, следует ли нам использовать параметры \"current\" или \"best\". Когда `evaluation==True`, мы должны использовать параметры \"best\", в противном случае мы должны использовать параметры \"current\".\n",
        "\n",
        "**Упражнение 3:** Реализуйте функцию `random_policy_search_choose_action`, как описано выше. Вам следует использовать метод `linear_policy`, который мы определили ранее. Вам также понадобится `jax.lax.select()` для условного возврата \"лучшего\" действия или \"текущего\" действия."
      ]
    },
    {
      "cell_type": "code",
      "execution_count": 13,
      "metadata": {
        "id": "1kmwT35JRjM1"
      },
      "outputs": [],
      "source": [
        "def random_policy_search_choose_action(\n",
        "    key,\n",
        "    params,\n",
        "    actor_state,\n",
        "    obs,\n",
        "    evaluation=False\n",
        "):\n",
        "  \"\"\"Random policy search select action method.\n",
        "\n",
        "  Args:\n",
        "    key: a random number (seed). Not used in this function.\n",
        "    params: the agent's parameters. In this case an instance of `RandomPolicySearchParams`\n",
        "    actor_state: some extra information about the actor. Not used in this function.\n",
        "    obs: the latest observation.\n",
        "    evaluation: a boolean indicating whether to use the best \"parameters\" or the \"current\" ones.\n",
        "\n",
        "  Returns:\n",
        "    The chosen action and the updated actor_state. In this function the actor_state is not updated.\n",
        "  \"\"\"\n",
        "\n",
        "  # YOUR CODE\n",
        "\n",
        "  best_action = linear_policy(params=params.best, obs=obs)\n",
        "\n",
        "  current_action = linear_policy(params=params.current, obs=obs)\n",
        "\n",
        "  action = jax.lax.select(\n",
        "      evaluation ,\n",
        "      best_action ,\n",
        "      current_action\n",
        "  )\n",
        "\n",
        "  # END YOUR CODE\n",
        "\n",
        "  return action, actor_state"
      ]
    },
    {
      "cell_type": "code",
      "execution_count": 14,
      "metadata": {
        "id": "YE4xoAgyI3kG",
        "colab": {
          "base_uri": "https://localhost:8080/"
        },
        "outputId": "d9acee0c-e6cf-4d6a-d1c1-859e9d5a1e59"
      },
      "outputs": [
        {
          "output_type": "stream",
          "name": "stdout",
          "text": [
            "Your function looks correct.\n"
          ]
        }
      ],
      "source": [
        "# @title Проверка упр 3 (run me) {display-mode: \"form\"}\n",
        "\n",
        "def check_random_policy_search_choose_action(choose_action):\n",
        "  key = None # not used\n",
        "  actor_state = None # not used\n",
        "\n",
        "  # obs\n",
        "  obs = np.ones(obs_shape)\n",
        "\n",
        "  evaluation=False\n",
        "  current_params = np.ones(obs_shape) * -1\n",
        "  best_params = np.ones(obs_shape)\n",
        "  rps_params = RandomPolicySearchParams(current_params, best_params)\n",
        "  action, actor_state = choose_action(key,rps_params,actor_state,obs,evaluation)\n",
        "  if action != 0:\n",
        "    return False\n",
        "\n",
        "  evaluation=True\n",
        "  current_params = np.ones(obs_shape) * -1\n",
        "  best_params = np.ones(obs_shape)\n",
        "  rps_params = RandomPolicySearchParams(current_params, best_params)\n",
        "  action, actor_state = choose_action(key,rps_params,actor_state,obs,evaluation)\n",
        "  if action != 1:\n",
        "    return False\n",
        "\n",
        "  return True\n",
        "\n",
        "try:\n",
        "  if check_random_policy_search_choose_action(random_policy_search_choose_action):\n",
        "    print(\"Your function looks correct.\")\n",
        "  else:\n",
        "    print(\"Your function looks incorrect.\")\n",
        "except Exception as e:\n",
        "    print(\"An Error Occured: {}\".format(e))"
      ]
    },
    {
      "cell_type": "markdown",
      "metadata": {
        "id": "6zu51ep7Sh0M"
      },
      "source": [
        "### Память агента RPS\n",
        "\n",
        "Для алгоритма поиска случайной политики нам нужно будет отслеживать средний возврат эпизода для последних 50 эпизодов. Помните, что мы сказали, что «текущие» параметры будут считаться «лучшими» параметрами, если средний возврат эпизода при использовании этих параметров больше предыдущего лучшего среднего возврата эпизода.\n",
        "\n",
        "Мы будем использовать интерфейс памяти общего назначения, который довольно прост. Модуль памяти должен иметь три метода. Первый — это функция `memory.push(<transition>)`, которая добавляет некоторую информацию о последнем переходе среды в память. Второй — это функция `memory.is_ready()`, которая проверяет, готова ли память к обучению. Наконец, функция `memory.sample()` должна возвращать последний набор воспоминаний, которые можно передать в `agent_learn_func`.\n",
        "\n",
        "#### Память среднего возврата эпизода\n",
        "Мы создали для вас простой модуль памяти агента. Он хранит `epsisode_returns` последних 20 эпизодов. Прочитайте нашу реализацию ниже и посмотрите, сможете ли вы ее понять. Метод `memory.sample()` возвращает средний возврат эпизода за последние 20 эпизодов."
      ]
    },
    {
      "cell_type": "code",
      "execution_count": 15,
      "metadata": {
        "id": "YVkTBIK5RjM1"
      },
      "outputs": [],
      "source": [
        "class AverageEpisodeReturnBuffer:\n",
        "\n",
        "    def __init__(self, num_episodes_to_store=50):\n",
        "        \"\"\"\n",
        "        This class implements an agent memory that stores the average episode\n",
        "        return over the last 50 episodes.\n",
        "        \"\"\"\n",
        "        self.num_episodes_to_store = num_episodes_to_store\n",
        "        self.episode_return_buffer = []\n",
        "        self.current_episode_return = 0\n",
        "\n",
        "    def push(self, transition):\n",
        "        self.current_episode_return += transition.reward\n",
        "\n",
        "        if transition.done: # If the episode is done\n",
        "            # Add episode return to buffer\n",
        "            self.episode_return_buffer.append(self.current_episode_return)\n",
        "\n",
        "            # Reset episode return\n",
        "            self.current_episode_return = 0\n",
        "\n",
        "\n",
        "    def is_ready(self):\n",
        "        return len(self.episode_return_buffer) == self.num_episodes_to_store\n",
        "\n",
        "    def sample(self):\n",
        "        average_episode_return = np.mean(self.episode_return_buffer)\n",
        "\n",
        "        # Clear episode return buffer\n",
        "        self.episode_return_buffer = []\n",
        "\n",
        "        return average_episode_return"
      ]
    },
    {
      "cell_type": "markdown",
      "metadata": {
        "id": "0oXBsSa2KjWE"
      },
      "source": [
        "### Функция обучения RPS\n",
        "Наконец, нам нужно реализовать функцию `random_policy_search_learn` для нашего алгоритма поиска случайной политики. Функция обучения довольно проста. Все, что нам нужно сделать, это проверить, лучше ли текущие параметры, чем лучшие параметры. Если они лучше, то установите лучшие параметры в качестве текущих параметров и случайным образом сгенерируйте новый набор текущих параметров.\n",
        "\n",
        "**Упражнение 4:** Напишите функцию для случайной генерации новых весов с использованием JAX. Веса должны быть выбраны из интервала `[-2,2]`.\n",
        "\n",
        "**Полезные функции:**\n",
        "*   `jax.random.uniform` ([docs](https://jax.readthedocs.io/en/latest/_autosummary/jax.random.uniform.html#jax.random.uniform))\n",
        "\n"
      ]
    },
    {
      "cell_type": "code",
      "execution_count": 16,
      "metadata": {
        "id": "8V2yFM2XMjGW"
      },
      "outputs": [],
      "source": [
        "def get_new_random_weights(random_key, old_weights, minval=-2.0, maxval=2.0):\n",
        "    new_weights_shape = old_weights.shape # you will need to use these values\n",
        "    new_weights_dtype = old_weights.dtype # you will need to use these values\n",
        "\n",
        "    # YOUR CODE\n",
        "\n",
        "    new_params = jax.random.uniform(dtype=new_weights_dtype, shape=new_weights_shape, minval=minval, maxval=maxval, key=random_key)\n",
        "\n",
        "    # END YOUR CODE\n",
        "\n",
        "    return new_params"
      ]
    },
    {
      "cell_type": "code",
      "execution_count": 17,
      "metadata": {
        "id": "T8ifHTKGQlAd",
        "colab": {
          "base_uri": "https://localhost:8080/"
        },
        "outputId": "da6fa6f0-578e-44e3-e863-eb893922f2c9"
      },
      "outputs": [
        {
          "output_type": "stream",
          "name": "stdout",
          "text": [
            "Function is correct!\n"
          ]
        }
      ],
      "source": [
        "# @title Проверка упр 4 (run me) {display-mode: \"form\"}\n",
        "\n",
        "def check_get_new_random_weights(get_new_random_weights):\n",
        "  old_weights = np.ones(obs_shape, \"float32\")\n",
        "  random_key = jax.random.PRNGKey(42)\n",
        "\n",
        "  # Case 1\n",
        "  new_weights = get_new_random_weights(random_key, old_weights, minval=-2.0, maxval=2.0)\n",
        "\n",
        "  if jnp.array_equal(new_weights, jnp.array([ 0.29657745,1.4265499, -1.7621555, -1.7505779 ])):\n",
        "    print(\"Function is correct!\")\n",
        "  else:\n",
        "    print(\"Something is wrong.\")\n",
        "\n",
        "try:\n",
        "  check_get_new_random_weights(get_new_random_weights)\n",
        "except Exception as e:\n",
        "    print(\"An Error Occured: {}\".format(e))"
      ]
    },
    {
      "cell_type": "markdown",
      "metadata": {
        "id": "2Djxc9j-LzkM"
      },
      "source": [
        "Наша функция обучения получает память в форме среднего возврата эпизода из `AverageEpisodeReturnMemory`, которую мы реализовали ранее. Мы можем использовать это для сравнения текущих параметров с лучшими параметрами. Но нам также нужно будет отслеживать лучший средний возврат эпизода для функции обучения. Для этого мы можем использовать аргумент `learn_state`, который передается в `agent_learn_func` в нашем цикле обучения. Как и в случае с `RandomPolicySearchParams`, мы будем использовать NamedTuple для хранения `best_average_episode_return` в `learn_state`."
      ]
    },
    {
      "cell_type": "code",
      "execution_count": 18,
      "metadata": {
        "id": "4cSH4uYmRjM2",
        "colab": {
          "base_uri": "https://localhost:8080/"
        },
        "outputId": "091d143a-2e6a-44a5-ae41-32e5ddaf5344"
      },
      "outputs": [
        {
          "output_type": "stream",
          "name": "stdout",
          "text": [
            "Initial best average episode return: -inf\n"
          ]
        }
      ],
      "source": [
        "# A NamedTuple to store the best average episode return so far\n",
        "RandomPolicyLearnState = collections.namedtuple(\n",
        "  \"RandomPolicyLearnState\",\n",
        "  [\"best_average_episode_return\"]\n",
        ")\n",
        "\n",
        "# Test\n",
        "initial_learn_state = RandomPolicyLearnState(best_average_episode_return=-float(\"inf\"))\n",
        "print(\"Initial best average episode return:\", initial_learn_state.best_average_episode_return)"
      ]
    },
    {
      "cell_type": "markdown",
      "metadata": {
        "id": "PxZXdP8bOu6b"
      },
      "source": [
        "Теперь у нас есть все необходимое для реализации функции `random_policy_search_learn`.\n",
        "\n",
        "**Упражнение 5:** Реализуйте функцию `random_policy_search_learn`. Функция должна проверять, лучше ли «текущие» параметры, чем «лучшие» параметры, сравнивая `current_average_episode_return` с `best_average_episode_return`. Функция также должна обновлять `learn_state`."
      ]
    },
    {
      "cell_type": "code",
      "execution_count": 19,
      "metadata": {
        "id": "Te_Q3qzmZcN_"
      },
      "outputs": [],
      "source": [
        "def random_policy_search_learn(key, params, learn_state, memory):\n",
        "    best_params = params.best\n",
        "    current_params = params.current\n",
        "\n",
        "    current_average_episode_return = memory # the memory contains the average episode return\n",
        "    best_average_episode_return = learn_state.best_average_episode_return\n",
        "\n",
        "\n",
        "    # YOUR CODE\n",
        "\n",
        "    best_params = jax.lax.select(\n",
        "        best_params > current_params,\n",
        "        best_params ,\n",
        "        current_params\n",
        "    )\n",
        "\n",
        "    best_average_episode_return = jax.lax.select(\n",
        "        best_average_episode_return > current_average_episode_return ,\n",
        "        best_average_episode_return ,\n",
        "        current_average_episode_return\n",
        "    )\n",
        "\n",
        "    # END YOUR CODE\n",
        "\n",
        "    # Generate new random parameters\n",
        "    new_params = get_new_random_weights(key, current_params)\n",
        "\n",
        "    # Bundle weights in RandomPolicySearchParams NamedTuple\n",
        "    params = RandomPolicySearchParams(current=new_params, best=best_params)\n",
        "\n",
        "    return params, RandomPolicyLearnState(best_average_episode_return)"
      ]
    },
    {
      "cell_type": "code",
      "execution_count": 20,
      "metadata": {
        "id": "CXHV4k2iBLBF",
        "colab": {
          "base_uri": "https://localhost:8080/"
        },
        "outputId": "64e1fd78-c23d-4e87-e002-8f8878f8fb87"
      },
      "outputs": [
        {
          "output_type": "stream",
          "name": "stdout",
          "text": [
            "Your function looks correct.\n"
          ]
        }
      ],
      "source": [
        "#@title Проверка упр 5 {display-mode: \"form\"}\n",
        "\n",
        "params = RandomPolicySearchParams(np.ones(obs_shape, \"float32\"), np.ones(obs_shape, \"float32\") * -1)\n",
        "learn_state = RandomPolicyLearnState(10)\n",
        "memory = 11\n",
        "key = jax.random.PRNGKey(42)\n",
        "\n",
        "try:\n",
        "  new_params, new_learn_state = random_policy_search_learn(key, params, learn_state, memory)\n",
        "\n",
        "  if not jnp.array_equal(new_params.current, jnp.array([ 0.29657745,  1.4265499 , -1.7621555 , -1.7505779 ])):\n",
        "    print(\"Your function is incorrect.\")\n",
        "\n",
        "  elif not jnp.array_equal(new_params.best, jnp.array([1., 1., 1., 1.])):\n",
        "    print(\"Your function is incorrect.\")\n",
        "\n",
        "  elif new_learn_state.best_average_episode_return != 11:\n",
        "    print(\"Your function is incorrect.\")\n",
        "\n",
        "  else:\n",
        "    print(\"Your function looks correct.\")\n",
        "except Exception as e:\n",
        "    print(\"An Error Occured: {}\".format(e))"
      ]
    },
    {
      "cell_type": "markdown",
      "metadata": {
        "id": "5Ol_AxnMBdgP"
      },
      "source": [
        "### Цикл обучения RPS\n",
        "Теперь мы можем собрать все вместе, передав модуль `memory`, функцию `learn` и функцию `choose_action` в цикл обучения. Чтобы ускорить наш алгоритм, мы будем использовать `jax.jit` в функции `learn` и функции `choose_action`."
      ]
    },
    {
      "cell_type": "code",
      "execution_count": 21,
      "metadata": {
        "id": "Qx57tf7vRjM3",
        "colab": {
          "base_uri": "https://localhost:8080/",
          "height": 680
        },
        "outputId": "40b8d82d-4450-476f-bf9c-9725ce457c7c"
      },
      "outputs": [
        {
          "output_type": "stream",
          "name": "stdout",
          "text": [
            "Starting training. This may take up to 5 minutes to complete.\n",
            "Episode: 0\tEpisode Return: 80.0\tAverage Episode Return: 80.0\tEvaluator Episode Return: 126.5\n",
            "Episode: 100\tEpisode Return: 55.0\tAverage Episode Return: 11.95\tEvaluator Episode Return: 200.0\n",
            "Episode: 200\tEpisode Return: 10.0\tAverage Episode Return: 8.85\tEvaluator Episode Return: 200.0\n",
            "Episode: 300\tEpisode Return: 102.0\tAverage Episode Return: 76.95\tEvaluator Episode Return: 200.0\n",
            "Episode: 400\tEpisode Return: 32.0\tAverage Episode Return: 10.6\tEvaluator Episode Return: 193.5\n",
            "Episode: 500\tEpisode Return: 10.0\tAverage Episode Return: 9.1\tEvaluator Episode Return: 200.0\n",
            "Episode: 600\tEpisode Return: 56.0\tAverage Episode Return: 11.8\tEvaluator Episode Return: 196.625\n",
            "Episode: 700\tEpisode Return: 52.0\tAverage Episode Return: 11.3\tEvaluator Episode Return: 189.375\n",
            "Episode: 800\tEpisode Return: 9.0\tAverage Episode Return: 27.6\tEvaluator Episode Return: 191.25\n",
            "Episode: 900\tEpisode Return: 9.0\tAverage Episode Return: 190.45\tEvaluator Episode Return: 185.25\n",
            "Episode: 1000\tEpisode Return: 9.0\tAverage Episode Return: 9.4\tEvaluator Episode Return: 173.625\n"
          ]
        },
        {
          "output_type": "display_data",
          "data": {
            "text/plain": [
              "<Figure size 640x480 with 1 Axes>"
            ],
            "image/png": "[encoded data removed]"
          },
          "metadata": {}
        }
      ],
      "source": [
        "# JIT the learn and choose action functions\n",
        "random_policy_search_learn_jit = jax.jit(random_policy_search_learn)\n",
        "random_policy_search_choose_action_jit = jax.jit(random_policy_search_choose_action)\n",
        "\n",
        "# Initialise the parameters\n",
        "initial_weights = np.ones(obs_shape, \"float32\")\n",
        "initial_params = RandomPolicySearchParams(initial_weights, initial_weights)\n",
        "\n",
        "# Initialise the learn state\n",
        "initial_learn_state = RandomPolicyLearnState(best_average_episode_return=-float(\"inf\"))\n",
        "\n",
        "# Initialise memory\n",
        "memory = AverageEpisodeReturnBuffer(num_episodes_to_store=50)\n",
        "\n",
        "# Run the training loop\n",
        "print(\"Starting training. This may take up to 5 minutes to complete.\")\n",
        "chex.clear_trace_counter()\n",
        "episode_return, evaluator_episode_returns = run_training_loop(\n",
        "                                        env_name,\n",
        "                                        initial_params,\n",
        "                                        random_policy_search_choose_action_jit,\n",
        "                                        None, # no actor state\n",
        "                                        random_policy_search_learn_jit,\n",
        "                                        initial_learn_state,\n",
        "                                        memory,\n",
        "                                        num_episodes=1001,\n",
        "                                        video_subdir=\"rps\"\n",
        "                                    )\n",
        "\n",
        "# Plot graph of evaluator episode returns\n",
        "plt.plot(np.linspace(0, 1000, len(evaluator_episode_returns)), evaluator_episode_returns)\n",
        "plt.title(\"Random Policy Search\")\n",
        "plt.xlabel(\"Episodes\")\n",
        "plt.ylabel(\"Episode Return\")\n",
        "plt.show()"
      ]
    },
    {
      "cell_type": "markdown",
      "metadata": {
        "id": "TG10FG6uS05A"
      },
      "source": [
        "Надеюсь, вы нашли набор оптимальных параметров на CartPole (возврат эпизода достигает `200`). В ячейке ниже вы можете посмотреть несколько видеороликов агента, выполняющего задание."
      ]
    },
    {
      "cell_type": "code",
      "execution_count": 22,
      "metadata": {
        "id": "KgayDJ7KWC4C",
        "colab": {
          "base_uri": "https://localhost:8080/",
          "height": 288
        },
        "outputId": "44ee3049-37f0-4fb6-9a58-618ea8193f91"
      },
      "outputs": [
        {
          "output_type": "execute_result",
          "data": {
            "text/plain": [
              "<IPython.core.display.HTML object>"
            ],
            "text/html": [
              "\n",
              "<video width=400 controls>\n",
              "      <source src=\"data:video/mp4;base64,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\" type=\"video/mp4\">\n",
              "</video>\n"
            ]
          },
          "metadata": {},
          "execution_count": 22
        }
      ],
      "source": [
        "#@title Visualise Policy {display-mode: \"form\"}\n",
        "#@markdown Choose an episode number that is a multiple of 100 and less than or equal to 2000, and **run** this cell.\n",
        "episode_number = 1000 #@param {type:\"number\"}\n",
        "\n",
        "assert (episode_number % 100) == 0, \"Episode number must be a multiple of 100 since we only record every 100th episode.\"\n",
        "assert episode_number < 1001, \"Episode number must be less than or equal to 2000\"\n",
        "\n",
        "eval_episode_number = int(episode_number / 100 * 8)\n",
        "video_path = f\"./video/rps/eval/rl-video-episode-{eval_episode_number}.mp4\"\n",
        "\n",
        "mp4 = open(video_path,'rb').read()\n",
        "data_url = \"data:video/mp4;base64,\" + b64encode(mp4).decode()\n",
        "HTML(\"\"\"\n",
        "<video width=400 controls>\n",
        "      <source src=\"%s\" type=\"video/mp4\">\n",
        "</video>\n",
        "\"\"\" % data_url)"
      ]
    },
    {
      "cell_type": "markdown",
      "metadata": {
        "id": "Xwf1IKKbrrVn"
      },
      "source": [
        "Итак, случайный поиск политики справился с этой задачей довольно хорошо. Однако здесь происходит очень мало (если вообще происходит) реального *обучения*. Далее давайте рассмотрим реализацию простого алгоритма RL, который может использовать свой опыт для руководства нашим поиском оптимальной политики, а не просто искать ее случайным образом."
      ]
    },
    {
      "cell_type": "markdown",
      "metadata": {
        "id": "XEnSjZVESrxc"
      },
      "source": [
        "## 3. Градиенты политики  (Policy Gradients, PG)\n",
        "Как обсуждалось, цель RL — найти политику, которая максимизирует ожидаемое совокупное вознаграждение (возврат), которое агент получает от среды. Мы можем записать ожидаемый возврат политики как:\n",
        "\n",
        "$J(\\pi_\\theta)=\\mathrm{E}_{\\tau\\sim\\pi_\\theta}\\ [R(\\tau)]$,\n",
        "\n",
        "где $\\pi_\\theta$ — это политика, параметризованная $\\theta$, $\\mathrm{E}$ означает *ожидание*, $\\tau$ — это сокращение для \"*эпизод*\", $\\tau\\sim\\pi_\\theta$ — это сокращение для \"*эпизоды, выбранные с использованием политики* $\\pi_\\theta$\", а $R(\\tau)$ — это возврат эпизода $\\tau$.\n",
        "\n",
        "Затем, цель в RL — найти параметры $\\theta$, которые максимизируют функцию $J(\\pi_\\theta)$. Один из способов найти эти параметры — выполнить градиентный подъем по $J(\\pi_\\theta)$ относительно параметров $\\theta$:\n",
        "\n",
        "$\\theta_{k+1}=\\theta_k + \\alpha \\nabla J(\\pi_\\theta)|_{\\theta_{k}}$,\n",
        "\n",
        "где $\\nabla J(\\pi_\\theta)|_{\\theta_{k}}$ — градиент ожидаемой доходности относительно параметров политики $\\theta_k$, а $\\alpha$ — размер шага. Эта величина, $\\nabla J(\\pi_\\theta)$, также называется **градиентом политики** и очень важна в RL. Если мы сможем вычислить градиент политики, то у нас будет средство, с помощью которого можно напрямую оптимизировать нашу политику.\n",
        "\n",
        "Как оказалось, у нас есть способ вычислить градиент политики, и математический вывод можно найти [здесь](https://spinningup.openai.com/en/latest/spinningup/rl_intro3.html). Но для этого руководства мы опустим вывод и просто дадим вам результат:\n",
        "\n",
        "$\\nabla_{\\theta} J(\\pi_{\\theta})=\\underset{\\tau \\sim \\pi_{\\theta}}{\\mathrm{E}}[\\sum_{t=0}^{T} \\nabla_{\\theta} \\log \\pi_{\\theta}(a_{t} \\mid s_{t}) R(\\tau)]$\n",
        "\n",
        "Неформально, градиент политики равен градиенту логарифма вероятности выбранного действия, умноженного на возврат эпизода, в котором было предпринято действие.\n"
      ]
    },
    {
      "cell_type": "markdown",
      "metadata": {
        "id": "BTnTzgtSuy-y"
      },
      "source": [
        "### REINFORCE\n",
        "REINFORCE — это простой алгоритм RL, который использует градиент политики для поиска оптимальной политики путем увеличения вероятности выбора действий (усиливающих действий), которые, как правило, приводят к эпизодам с высокой отдачей.\n",
        "\n",
        "**Упражнение 6:** Реализуйте функцию, которая берет вероятность действия и отдачу эпизода, в котором действие было предпринято, и вычисляет логарифм вероятности, умноженный на отдачу. Убедитесь, что вы используете JAX.\n",
        "\n",
        "**Полезные функции:**\n",
        "*   `jax.numpy.log`([docs](https://jax.readthedocs.io/en/latest/_autosummary/jax.numpy.log.html))"
      ]
    },
    {
      "cell_type": "code",
      "execution_count": 23,
      "metadata": {
        "id": "bJObUsoUrOyV"
      },
      "outputs": [],
      "source": [
        "def compute_weighted_log_prob(action_prob, episode_return):\n",
        "\n",
        "    # YOUR CODE\n",
        "\n",
        "    log_porb = jax.numpy.log(action_prob)\n",
        "\n",
        "    weighted_log_prob = log_porb * episode_return\n",
        "\n",
        "    # END YOUR CODE\n",
        "\n",
        "    return weighted_log_prob"
      ]
    },
    {
      "cell_type": "code",
      "execution_count": 24,
      "metadata": {
        "id": "eZPoTwa1Gbm1",
        "colab": {
          "base_uri": "https://localhost:8080/"
        },
        "outputId": "ad938b79-c4b5-4ef8-b880-615487f9bf38"
      },
      "outputs": [
        {
          "output_type": "stream",
          "name": "stdout",
          "text": [
            "Looks correct.\n"
          ]
        }
      ],
      "source": [
        "#@title Проверка упр 6 {display-mode: \"form\"}\n",
        "\n",
        "try:\n",
        "  action_prob = 0.8\n",
        "  episode_return = 100\n",
        "  result = compute_weighted_log_prob(action_prob, episode_return)\n",
        "  if result != -22.314354:\n",
        "    print(\"Your implementation looks incorrect.\")\n",
        "  else:\n",
        "    print(\"Looks correct.\")\n",
        "except Exception as e:\n",
        "    print(\"An Error Occured: {}\".format(e))"
      ]
    },
    {
      "cell_type": "markdown",
      "metadata": {
        "id": "NmgW9UJ3tIpl"
      },
      "source": [
        "### Rewards-to-go\n",
        "Выполнение градиентного подъема по градиенту логарифма вероятности действия, взвешенного по возврату эпизода, будет иметь тенденцию повышать вероятность действий, которые были в эпизодах с высоким возвратом, независимо от того, *где* в эпизоде ​​было выполнено действие. Это на самом деле не имеет большого смысла, потому что действие ближе к концу эпизода может быть подкреплено, потому что много вознаграждения было собрано ранее в эпизоде, *до* того, как было выполнено действие. Агенты RL должны на самом деле подкреплять действия только на основе их *последствий*. Вознаграждения, полученные до выполнения действия, не влияют на то, насколько хорошим было это действие: только вознаграждения, которые приходят после. Накопленные вознаграждения, полученные после выполнения действия, называются **вознаграждениями-к-переходу** и могут быть вычислены как:\n",
        "\n",
        "$\\hat{R}_i=\\sum_{t=i}^Tr_t$\n",
        "\n",
        "Сравните это с доходностью эпизода:\n",
        "\n",
        "$R(\\tau)=\\sum_{t=0}^Tr_t$\n",
        "\n",
        "Мы можем повысить надежность градиента политики, заменив доходность эпизода на вознаграждения-к-переходу. Градиент политики с оставшимися наградами задается следующим образом:\n",
        "\n",
        "$\\nabla_{\\theta} J(\\pi_{\\theta})=\\underset{\\tau \\sim \\pi_{\\theta}}{\\mathrm{E}}[\\sum_{t=0}^{T} \\nabla_{\\theta} \\log \\pi_{\\theta}(a_{t} \\mid s_{t}) \\hat{R}_t]$\n",
        "\n",
        "**Упражнение 7:** Реализуйте функцию, которая берет список всех наград, полученных в эпизоде, и вычисляет оставшиеся награды. Не беспокойтесь об использовании JAX в этой функции. Вы можете использовать обычные операции Python, такие как `for-loops`."
      ]
    },
    {
      "cell_type": "code",
      "execution_count": 38,
      "metadata": {
        "id": "nV1Hww8E3dUJ"
      },
      "outputs": [],
      "source": [
        "def compute_rewards_to_go(rewards):\n",
        "    \"\"\"\n",
        "    This function should take a list of rewards as input and\n",
        "    compute the rewards-to-go for each timestep.\n",
        "\n",
        "    EXAMPLE: compute_rewards_to_go([1,2,3,4]) = [10, 9, 7, 4]\n",
        "\n",
        "    Arguments:\n",
        "        rewards[t] is the reward at time step t.\n",
        "\n",
        "    Returns:\n",
        "        rewards_to_go[t] should be the reward-to-go at timestep t.\n",
        "    \"\"\"\n",
        "\n",
        "    rewards_to_go = []\n",
        "\n",
        "    # YOUR CODE\n",
        "    residue = sum(rewards)\n",
        "    rewards_to_go.append(residue)\n",
        "\n",
        "    for i in range(0, len(rewards)-1):\n",
        "      residue-=rewards[i]\n",
        "      rewards_to_go.append(residue)\n",
        "\n",
        "    # END YOUR CODE\n",
        "\n",
        "    return rewards_to_go"
      ]
    },
    {
      "cell_type": "code",
      "execution_count": 39,
      "metadata": {
        "id": "hLVaVRp28YGI",
        "colab": {
          "base_uri": "https://localhost:8080/"
        },
        "outputId": "46c481b3-8b4a-4f4f-82c4-996ee2d0c31c"
      },
      "outputs": [
        {
          "output_type": "stream",
          "name": "stdout",
          "text": [
            "Looks correct.\n"
          ]
        }
      ],
      "source": [
        "#@title Проверка упр 7 {display-mode: \"form\"}\n",
        "\n",
        "try:\n",
        "  result = compute_rewards_to_go([1,2,3,4])\n",
        "\n",
        "  if result != [10, 9, 7, 4]:\n",
        "    print(result)\n",
        "    print(\"There is a problem with your implementation.\")\n",
        "  else:\n",
        "    print(\"Looks correct.\")\n",
        "except Exception as e:\n",
        "    print(\"An Error Occured: {}\".format(e))\n"
      ]
    },
    {
      "cell_type": "markdown",
      "metadata": {
        "id": "IboxN9MS65i5"
      },
      "source": [
        "### REINFORCE memory\n",
        "Далее нам нужно будет создать новую память агента для хранения вознаграждений $\\hat{R}_t$ вместе с наблюдением $o_t$ и действием $a_t$ на каждом временном шаге. Ниже мы реализовали такой модуль памяти для вас. Функция `memory.sample()` вернет пакет из последних 500 воспоминаний. Вы можете прочитать код, чтобы попытаться понять его, но это не обязательно. Поэтому мы скрываем код по умолчанию."
      ]
    },
    {
      "cell_type": "code",
      "execution_count": 40,
      "metadata": {
        "id": "xhS4V6auRjM3"
      },
      "outputs": [],
      "source": [
        "# @title Реализация памяти (run me) {display-mode: \"form\"}\n",
        "\n",
        "# NamedTuple to store memory\n",
        "EpisodeRewardsToGoMemory = collections.namedtuple(\"EpisodeRewardsToGoMemory\", [\"obs\", \"action\", \"reward_to_go\"])\n",
        "\n",
        "class EpisodeRewardsToGoBuffer:\n",
        "\n",
        "    def __init__(self, num_transitions_to_store=512, batch_size=256):\n",
        "        self.batch_size = batch_size\n",
        "        self.memory_buffer = collections.deque(maxlen=num_transitions_to_store)\n",
        "        self.current_episode_transition_buffer = []\n",
        "\n",
        "    def push(self, transition):\n",
        "        self.current_episode_transition_buffer.append(transition)\n",
        "\n",
        "        if transition.done:\n",
        "\n",
        "            episode_rewards = []\n",
        "            for t in self.current_episode_transition_buffer:\n",
        "                episode_rewards.append(t.reward)\n",
        "\n",
        "            r2g = compute_rewards_to_go(episode_rewards)\n",
        "\n",
        "            for i, t in enumerate(self.current_episode_transition_buffer):\n",
        "                memory = EpisodeRewardsToGoMemory(t.obs, t.action, r2g[i])\n",
        "                self.memory_buffer.append(memory)\n",
        "\n",
        "            # Reset episode buffer\n",
        "            self.current_episode_transition_buffer = []\n",
        "\n",
        "\n",
        "    def is_ready(self):\n",
        "        return len(self.memory_buffer) >= self.batch_size\n",
        "\n",
        "    def sample(self):\n",
        "        random_memory_sample = random.sample(self.memory_buffer, self.batch_size)\n",
        "\n",
        "        obs_batch, action_batch, reward_to_go_batch = zip(*random_memory_sample)\n",
        "\n",
        "        return EpisodeRewardsToGoMemory(\n",
        "            np.stack(obs_batch).astype(\"float32\"),\n",
        "            np.asarray(action_batch).astype(\"int32\"),\n",
        "            np.asarray(reward_to_go_batch).astype(\"int32\")\n",
        "        )\n",
        "\n",
        "\n",
        "# Instantiate Memory\n",
        "REINFORCE_memory = EpisodeRewardsToGoBuffer(num_transitions_to_store=512, batch_size=256)"
      ]
    },
    {
      "cell_type": "markdown",
      "metadata": {
        "id": "Idkav_aSYXvz"
      },
      "source": [
        "### Policy neural network\n",
        "Далее мы будем использовать простую нейронную сеть для аппроксимации политики. Наша нейронная сеть политики будет иметь входной слой, который принимает наблюдение в качестве входных данных и пропускает его через два скрытых слоя, а затем выводит одно скалярное значение для каждого из возможных действий. Таким образом, в CartPole выходной слой будет иметь размер `2`.\n",
        "\n",
        "[Haiku](https://github.com/deepmind/dm-haiku) — это библиотека для реализации нейронных сетей в JAX. Ниже мы реализовали простую функцию для создания сети политики для вас.\n"
      ]
    },
    {
      "cell_type": "code",
      "execution_count": 41,
      "metadata": {
        "id": "j2XO7VkORjM4"
      },
      "outputs": [],
      "source": [
        "def make_policy_network(num_actions: int, layers=[20, 20]) -> hk.Transformed:\n",
        "  \"\"\"Factory for a simple MLP network for the policy.\"\"\"\n",
        "\n",
        "  def policy_network(obs):\n",
        "    network = hk.Sequential(\n",
        "        [\n",
        "            hk.Flatten(),\n",
        "            hk.nets.MLP(layers + [num_actions])\n",
        "        ]\n",
        "    )\n",
        "    return network(obs)\n",
        "\n",
        "  return hk.without_apply_rng(hk.transform(policy_network))"
      ]
    },
    {
      "cell_type": "markdown",
      "metadata": {
        "id": "1GR2y8FjaG-G"
      },
      "source": [
        "У сетей Haiku есть две важные функции, о которых вам нужно знать. Первая — `network.init(<random_key>, <input>)`, которая возвращает набор случайных начальных параметров. Второй метод — `network.apply(<params>, <input>)`, который передает входные данные через сеть, используя предоставленный набор параметров."
      ]
    },
    {
      "cell_type": "code",
      "execution_count": 42,
      "metadata": {
        "id": "fJrn9o-Vatkw",
        "colab": {
          "base_uri": "https://localhost:8080/"
        },
        "outputId": "4417144d-8626-4e9b-ef09-611e02239f4d"
      },
      "outputs": [
        {
          "output_type": "stream",
          "name": "stdout",
          "text": [
            "Initial params: dict_keys(['mlp/~/linear_0', 'mlp/~/linear_1', 'mlp/~/linear_2'])\n",
            "Policy network output: [ 0.91155875 -0.3961737 ]\n"
          ]
        }
      ],
      "source": [
        "# Example\n",
        "POLICY_NETWORK = make_policy_network(num_actions=num_actions, layers=[20,20])\n",
        "random_key = jax.random.PRNGKey(42) # random key\n",
        "dummy_obs = np.ones(obs_shape, \"float32\")\n",
        "\n",
        "# Initialise parameters\n",
        "REINFORCE_params = POLICY_NETWORK.init(random_key, dummy_obs)\n",
        "print(\"Initial params:\", REINFORCE_params.keys())\n",
        "\n",
        "# Pass input through the network\n",
        "output = POLICY_NETWORK.apply(REINFORCE_params, dummy_obs)\n",
        "print(\"Policy network output:\", output)\n"
      ]
    },
    {
      "cell_type": "markdown",
      "metadata": {
        "id": "MlouUBvoeunz"
      },
      "source": [
        "Выходы нашей сети политик — [логиты](https://qr.ae/pv4YTe). Чтобы преобразовать это в распределение вероятностей по действиям, мы передаем логиты в функцию [softmax](https://en.wikipedia.org/wiki/Softmax_function).\n",
        "\n",
        "### УСИЛЕНИЕ выбор функции действия\n",
        "\n",
        "**Упражнение 8:** Завершите функцию ниже, которая берет вектор логитов и случайным образом выбирает действие из категориального распределения, заданного логитами.\n",
        "\n",
        "**Полезные функции:**"
      ]
    },
    {
      "cell_type": "code",
      "execution_count": 43,
      "metadata": {
        "id": "m3Z8DxUmeOGJ"
      },
      "outputs": [],
      "source": [
        "def sample_action(random_key, logits):\n",
        "\n",
        "  # YOUR CODE HERE\n",
        "  action = jax.random.categorical(logits=logits, key=random_key)\n",
        "\n",
        "  # END YOUR code\n",
        "\n",
        "  return action"
      ]
    },
    {
      "cell_type": "code",
      "execution_count": 44,
      "metadata": {
        "id": "5opHJMO0D_Ub",
        "colab": {
          "base_uri": "https://localhost:8080/"
        },
        "outputId": "f8d23fc8-2be6-49fe-ac67-e1c6d13f403c"
      },
      "outputs": [
        {
          "output_type": "stream",
          "name": "stdout",
          "text": [
            "Seems correct.\n"
          ]
        }
      ],
      "source": [
        "#@title Проверка упр 8 {display-mode: \"form\"}\n",
        "\n",
        "try:\n",
        "  random_key = jax.random.PRNGKey(42) # random key\n",
        "  action = sample_action(random_key, np.array([1,2], \"float32\"))\n",
        "  if action != 1:\n",
        "    print(\"Your function is incorrect.\")\n",
        "  else:\n",
        "    print(\"Seems correct.\")\n",
        "except Exception as e:\n",
        "    print(\"An Error Occured: {}\".format(e))"
      ]
    },
    {
      "cell_type": "markdown",
      "metadata": {
        "id": "jP5UH87VRjM4"
      },
      "source": [
        "Теперь мы можем реализовать функцию `REINFORCE_choose_action`. Мы передадим наблюдение через сеть политики для вычисления логитов, а затем передадим логиты в функцию `sample_action` для выбора и действия."
      ]
    },
    {
      "cell_type": "code",
      "execution_count": 45,
      "metadata": {
        "id": "UJTzrDAZ0Ul5"
      },
      "outputs": [],
      "source": [
        "def REINFORCE_choose_action(key, params, actor_state, obs, evaluation=False):\n",
        "  obs = jnp.expand_dims(obs, axis=0) # add dummy batch dim before passing through network\n",
        "\n",
        "  # Pass obs through policy network to compute logits\n",
        "  logits = POLICY_NETWORK.apply(params, obs)\n",
        "  logits = logits[0] # remove batch dim\n",
        "\n",
        "  # Randomly sample action\n",
        "  sampled_action = sample_action(key, logits)\n",
        "\n",
        "  return sampled_action, actor_state"
      ]
    },
    {
      "cell_type": "markdown",
      "metadata": {
        "id": "NI26SLAb7iRo"
      },
      "source": [
        "Теперь, когда мы реализовали функцию `REINFORCE_choose_action`, нам осталось только создать функцию `REINFORCE_learn`. Функция обучения должна использовать функцию `weighted_log_prob`, которую мы создали ранее, чтобы вычислить потери градиента политики и применить обновления градиента к нашей нейронной сети."
      ]
    },
    {
      "cell_type": "markdown",
      "metadata": {
        "id": "36ALCJESQJ8e"
      },
      "source": [
        "### Policy gradient loss\n",
        "\n",
        "\n",
        "**Упражнение 9:** Завершите функцию `policy_gradient_loss` ниже. Функция должна вычислять вероятности действий, пропуская `logits` через функцию softmax. Затем следует извлечь вероятность заданного `action` (используя индексацию массива) и вычислить `weighted_log_prob`, используя функцию, которую мы создали ранее.\n",
        "\n",
        "**Полезные методы:**\n",
        "*   `jax.nn.softmax` ([docs](https://jax.readthedocs.io/en/latest/_autosummary/jax.nn.softmax.html))"
      ]
    },
    {
      "cell_type": "code",
      "execution_count": 46,
      "metadata": {
        "id": "9sUKkqx0RjM4"
      },
      "outputs": [],
      "source": [
        "def policy_gradient_loss(action, logits, reward_to_go):\n",
        "\n",
        "  # YOUR CODE\n",
        "\n",
        "  all_action_probs = jax.nn.softmax(x=logits) # convert logits into probs\n",
        "\n",
        "  action_prob = all_action_probs[action] # using array indexing to get prob of action\n",
        "\n",
        "  weighted_log_prob = compute_weighted_log_prob(action_prob=action_prob, episode_return=reward_to_go)\n",
        "\n",
        "  # END YOUR CODE\n",
        "\n",
        "  loss = - weighted_log_prob # negative because we want gradient `ascent`\n",
        "\n",
        "  return loss"
      ]
    },
    {
      "cell_type": "code",
      "execution_count": 49,
      "metadata": {
        "id": "7AMJvau1FsM5",
        "colab": {
          "base_uri": "https://localhost:8080/"
        },
        "outputId": "686fe7f3-3543-4558-a3f3-d82ca8b2313b"
      },
      "outputs": [
        {
          "output_type": "stream",
          "name": "stdout",
          "text": [
            "3.1326165\n",
            "Your implementation looks wrong.\n"
          ]
        }
      ],
      "source": [
        "#@title Проверка упр 9 {display-mode: \"form\"}\n",
        "\n",
        "try:\n",
        "  result = policy_gradient_loss(1, np.array([1,2], \"float32\"), 10)\n",
        "  print(result)\n",
        "  if result != 3.1326175:\n",
        "    print(\"Your implementation looks wrong.\")\n",
        "  else:\n",
        "    print(\"Looks correct.\")\n",
        "except Exception as e:\n",
        "  print(\"An Error Occured: {}\".format(e))\n"
      ]
    },
    {
      "cell_type": "markdown",
      "metadata": {
        "id": "Gzuqx1jJrwVx"
      },
      "source": [
        "Когда мы делаем шаг обновления градиента политики, мы захотим сделать это, используя пакет опыта, а не просто один опыт, как выше. Мы можем использовать функцию JAX [vmap](https://jax.readthedocs.io/en/latest/_autosummary/jax.vmap.html#jax.vmap), чтобы легко заставить нашу функцию `policy_gradient_loss` работать с пакетом опыта."
      ]
    },
    {
      "cell_type": "code",
      "execution_count": 50,
      "metadata": {
        "id": "3yq4naLURjM4",
        "colab": {
          "base_uri": "https://localhost:8080/"
        },
        "outputId": "6858e680-1753-4b5d-c257-a1ca425c5ea0"
      },
      "outputs": [
        {
          "output_type": "stream",
          "name": "stdout",
          "text": [
            "Policy gradient loss on batch: 1.6967314\n"
          ]
        }
      ],
      "source": [
        "def batched_policy_gradient_loss(params, obs_batch, action_batch, reward_to_go_batch):\n",
        "    # Get logits by passing observation through network\n",
        "    logits_batch = POLICY_NETWORK.apply(params, obs_batch)\n",
        "\n",
        "    policy_gradient_loss_batch = jax.vmap(policy_gradient_loss)(\n",
        "        action_batch,\n",
        "        logits_batch,\n",
        "        reward_to_go_batch) # add batch\n",
        "\n",
        "    # Compute mean loss over batch\n",
        "    mean_policy_gradient_loss = jnp.mean(policy_gradient_loss_batch)\n",
        "\n",
        "    return mean_policy_gradient_loss\n",
        "\n",
        "# TEST\n",
        "obs_batch = np.ones((3, *obs_shape), \"float32\")\n",
        "actions_batch = np.array([1,0,0])\n",
        "rew2go_batch = np.array([2.3, 4.3, 2.1])\n",
        "\n",
        "loss = batched_policy_gradient_loss(REINFORCE_params, obs_batch, actions_batch, rew2go_batch)\n",
        "\n",
        "print(\"Policy gradient loss on batch:\", loss)"
      ]
    },
    {
      "cell_type": "markdown",
      "metadata": {
        "id": "VDhTH3culwqo"
      },
      "source": [
        "### Оптимизатор сети\n",
        "\n",
        "Чтобы применить обновления градиента политики к нашей нейронной сети, мы будем использовать библиотеку JAX под названием [Optax](https://github.com/deepmind/optax). Optax имеет реализацию [оптимизатора Adam](https://www.geeksforgeeks.org/intuition-of-adam-optimizer/), которую мы можем использовать."
      ]
    },
    {
      "cell_type": "code",
      "execution_count": 51,
      "metadata": {
        "id": "pxXINlMHP5Ic"
      },
      "outputs": [],
      "source": [
        "REINFORCE_OPTIMIZER = optax.adam(1e-3)\n",
        "\n",
        "# Initialise the optimiser\n",
        "REINFORCE_optim_state = REINFORCE_OPTIMIZER.init(REINFORCE_params)"
      ]
    },
    {
      "cell_type": "markdown",
      "metadata": {
        "id": "ViENrHOALbCw"
      },
      "source": [
        "Теперь у нас есть все необходимое для создания функции `REINFORCE_learn`. Мы сохраним состояние оптимизатора в `learn_state`. Мы вычислим градиент потерь градиента политики с помощью  `jax.grad` ([docs](https://jax.readthedocs.io/en/latest/_autosummary/jax.grad.html))."
      ]
    },
    {
      "cell_type": "code",
      "execution_count": 52,
      "metadata": {
        "id": "CQr2Uz5ORjM5"
      },
      "outputs": [],
      "source": [
        "# A NamedTuple to store the state of the optimiser\n",
        "REINFORCELearnState = collections.namedtuple(\"LearnerState\", [\"optim_state\"])\n",
        "\n",
        "\n",
        "def REINFORCE_learn(key, params, learner_state, memory):\n",
        "\n",
        "  # Get the policy gradient by using `jax.grad()` on `batched_policy_gradient_loss`\n",
        "  grad_loss = jax.grad(batched_policy_gradient_loss)(params, memory.obs, memory.action, memory.reward_to_go)\n",
        "\n",
        "  # Get param updates using gradient and optimizer\n",
        "  updates, new_optim_state = REINFORCE_OPTIMIZER.update(grad_loss, learner_state.optim_state)\n",
        "\n",
        "  # Apply updates to params\n",
        "  params = optax.apply_updates(params, updates)\n",
        "\n",
        "  return params, REINFORCELearnState(new_optim_state) # update learner state"
      ]
    },
    {
      "cell_type": "markdown",
      "metadata": {
        "id": "5an3U2NhRKgG"
      },
      "source": [
        "### Цикл обучения REINFORCE\n",
        "Теперь мы можем обучить нашего агента REINFORCE, собрав все воедино с помощью цикла обучения."
      ]
    },
    {
      "cell_type": "code",
      "execution_count": 53,
      "metadata": {
        "id": "vioIcVGsRjM5",
        "colab": {
          "base_uri": "https://localhost:8080/",
          "height": 680
        },
        "outputId": "ebd5c660-fe84-45ce-87aa-e26f6c93d03c"
      },
      "outputs": [
        {
          "output_type": "stream",
          "name": "stdout",
          "text": [
            "Starting training. This may take up to 10 minutes to complete.\n",
            "Episode: 0\tEpisode Return: 12.0\tAverage Episode Return: 12.0\tEvaluator Episode Return: 16.625\n",
            "Episode: 100\tEpisode Return: 52.0\tAverage Episode Return: 38.4\tEvaluator Episode Return: 49.875\n",
            "Episode: 200\tEpisode Return: 174.0\tAverage Episode Return: 139.0\tEvaluator Episode Return: 151.75\n",
            "Episode: 300\tEpisode Return: 144.0\tAverage Episode Return: 187.95\tEvaluator Episode Return: 165.625\n",
            "Episode: 400\tEpisode Return: 200.0\tAverage Episode Return: 194.05\tEvaluator Episode Return: 194.5\n",
            "Episode: 500\tEpisode Return: 169.0\tAverage Episode Return: 166.4\tEvaluator Episode Return: 190.375\n",
            "Episode: 600\tEpisode Return: 200.0\tAverage Episode Return: 198.5\tEvaluator Episode Return: 200.0\n",
            "Episode: 700\tEpisode Return: 200.0\tAverage Episode Return: 200.0\tEvaluator Episode Return: 200.0\n",
            "Episode: 800\tEpisode Return: 200.0\tAverage Episode Return: 200.0\tEvaluator Episode Return: 200.0\n",
            "Episode: 900\tEpisode Return: 200.0\tAverage Episode Return: 197.2\tEvaluator Episode Return: 200.0\n",
            "Episode: 1000\tEpisode Return: 200.0\tAverage Episode Return: 200.0\tEvaluator Episode Return: 196.625\n"
          ]
        },
        {
          "output_type": "display_data",
          "data": {
            "text/plain": [
              "<Figure size 640x480 with 1 Axes>"
            ],
            "image/png": "[encoded data removed]"
          },
          "metadata": {}
        }
      ],
      "source": [
        "# JIT the choose_action and learn functions for more speed\n",
        "REINFORCE_learn_jit = jax.jit(REINFORCE_learn)\n",
        "REINFORCE_choose_action_jit = jax.jit(REINFORCE_choose_action)\n",
        "\n",
        "# Initial learn state\n",
        "REINFORCE_learn_state = REINFORCELearnState(REINFORCE_optim_state)\n",
        "\n",
        "# Run training loop\n",
        "print(\"Starting training. This may take up to 10 minutes to complete.\")\n",
        "episode_returns, evaluator_returns = run_training_loop(\n",
        "                                        env_name,\n",
        "                                        REINFORCE_params,\n",
        "                                        REINFORCE_choose_action_jit,\n",
        "                                        None, # action state not used\n",
        "                                        REINFORCE_learn_jit,\n",
        "                                        REINFORCE_learn_state,\n",
        "                                        REINFORCE_memory,\n",
        "                                        num_episodes=1001,\n",
        "                                        learn_steps_per_episode=2,\n",
        "                                        video_subdir=\"reinforce\"\n",
        "                                      )\n",
        "\n",
        "# Plot the episode returns\n",
        "plt.plot(episode_returns)\n",
        "plt.xlabel(\"Episode\")\n",
        "plt.ylabel(\"Episode Return\")\n",
        "plt.title(\"REINFORCE\")\n",
        "plt.show()\n"
      ]
    },
    {
      "cell_type": "code",
      "execution_count": 55,
      "metadata": {
        "id": "caKL3ngNr_Yh",
        "colab": {
          "base_uri": "https://localhost:8080/",
          "height": 288
        },
        "outputId": "105f47cd-ecd2-4f11-a9e8-09aaf56c14f6"
      },
      "outputs": [
        {
          "output_type": "execute_result",
          "data": {
            "text/plain": [
              "<IPython.core.display.HTML object>"
            ],
            "text/html": [
              "\n",
              "<video width=400 controls>\n",
              "      <source src=\"data:video/mp4;base64,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\" type=\"video/mp4\">\n",
              "</video>\n"
            ]
          },
          "metadata": {},
          "execution_count": 55
        }
      ],
      "source": [
        "#@title Визуализация {display-mode: \"form\"}\n",
        "#@markdown Выберите номер эпизода, менее или равного 1000, и **run this cell**.\n",
        "\n",
        "episode_number = 1000 #@param {type:\"number\"}\n",
        "\n",
        "assert (episode_number % 100) == 0, \"Episode number must be a multiple of 100 since we only record every 100th episode.\"\n",
        "assert episode_number < 1001, \"Episode number must be less than or equal to 1000\"\n",
        "\n",
        "eval_episode_number = int(episode_number / 100 * 8)\n",
        "video_path = f\"./video/reinforce/eval/rl-video-episode-{eval_episode_number}.mp4\"\n",
        "\n",
        "mp4 = open(video_path,'rb').read()\n",
        "data_url = \"data:video/mp4;base64,\" + b64encode(mp4).decode()\n",
        "HTML(\"\"\"\n",
        "<video width=400 controls>\n",
        "      <source src=\"%s\" type=\"video/mp4\">\n",
        "</video>\n",
        "\"\"\" % data_url)"
      ]
    },
    {
      "cell_type": "markdown",
      "metadata": {
        "id": "D_HHzFTOc-Qr"
      },
      "source": [
        "## 4. Q-Learning\n",
        "Другим распространенным подходом к поиску оптимальной политики в среде с использованием RL является Q-обучение."
      ]
    },
    {
      "cell_type": "markdown",
      "metadata": {
        "id": "lF1nOZrUSzhE"
      },
      "source": [
        "### Функция значения состояния-действия\n",
        "В Q-обучении агент изучает функцию, которая аппроксимирует **значение** пар состояние-действие. Под *значением* мы подразумеваем отдачу, которую вы ожидаете получить, если начнете в определенном состоянии $s_t$, выполните определенное действие $a_t$, а затем будете действовать в соответствии с определенной политикой $\\pi$ навсегда. Функция значения состояния-действия политики $\\pi$ задается как\n",
        "\n",
        "$Q_\\pi(s,a)=\\mathrm{E}_{\\tau\\sim\\pi}\\left[R(\\tau) \\mid s_0=s,\\ a_t=a\\right]$.\n",
        "\n",
        "Мы говорим, что функция значения $Q_\\pi(s,a)$ является **оптимальной** функцией значения, если политика $\\pi$ является оптимальной политикой. Обозначим функцию оптимального значения следующим образом:\n",
        "\n",
        "$Q_\\ast(s,a)=\\max \\limits_\\pi \\ \\mathrm{E}_{\\tau\\sim\\pi}\\left[R(\\tau) \\mid s_0=s,\\ a_0=a\\right]$\n",
        "\n",
        "Существует важная связь между оптимальным действием $a_\\ast$ в состоянии $s$ и оптимальной функцией значения состояния-действия $Q_\\ast$. А именно, оптимальное действие $a_\\ast$ в состоянии $s$ равно действию, которое максимизирует оптимальную функцию значения состояния-действия. Эта связь естественным образом индуцирует оптимальную политику:\n",
        "\n",
        "$\\pi_\\ast(s)=\\arg \\max \\limits_a\\ Q_\\ast(s, a)$"
      ]
    },
    {
      "cell_type": "markdown",
      "metadata": {
        "id": "H2x2tqvZSihz"
      },
      "source": [
        "### Greedy action selection (Жадный выбор действия)\n",
        "\n",
        "**Упражнение 10:** Давайте реализуем функцию, которая, учитывая вектор Q-значений, возвращает действие с наибольшим Q-значением (т. е. жадное действие).\n",
        "\n",
        "**Useful methods:**\n",
        "*   `jax.numpy.argmax` ([docs](https://jax.readthedocs.io/en/latest/_autosummary/jax.numpy.argmax.html))"
      ]
    },
    {
      "cell_type": "code",
      "execution_count": 57,
      "metadata": {
        "id": "Nn9P1YdzTIDU"
      },
      "outputs": [],
      "source": [
        "# Implement a function takes q-values as input and returns the greedy_action\n",
        "def select_greedy_action(q_values):\n",
        "\n",
        "  # YOUR CODE\n",
        "  action = jax.numpy.argmax(a=q_values)\n",
        "  # END YOUR CODE\n",
        "\n",
        "  return action"
      ]
    },
    {
      "cell_type": "code",
      "execution_count": 58,
      "metadata": {
        "id": "ZBzLr_G7QKXR",
        "colab": {
          "base_uri": "https://localhost:8080/"
        },
        "outputId": "fd6a38d0-e2c2-4cf3-8662-895a1eb2c122"
      },
      "outputs": [
        {
          "output_type": "stream",
          "name": "stdout",
          "text": [
            "Looks good.\n"
          ]
        }
      ],
      "source": [
        "# @title Проверка упр 10 (run me) {display-mode: \"form\"}\n",
        "\n",
        "try:\n",
        "  q_values = jnp.array([1,1,3,4])\n",
        "  action = select_greedy_action(q_values)\n",
        "\n",
        "  if action != 3:\n",
        "    print(\"Incorrect answer, your greedy action selector looks wrong\")\n",
        "  else:\n",
        "    print(\"Looks good.\")\n",
        "except Exception as e:\n",
        "  print(\"An Error Occured: {}\".format(e))\n"
      ]
    },
    {
      "cell_type": "markdown",
      "metadata": {
        "id": "PFQUlqZ4ZyLp"
      },
      "source": [
        "### Q-Network\n",
        "В отличие от подхода с градиентом политики из предыдущего раздела, в Q-обучении и других методах RL на основе значений нам не нужна параметризация для политики, вместо этого мы параметризуем Q-функцию с помощью нейронной сети $Q_\\theta$. Мы получаем политику из Q-сети, всегда выбирая действие с *наибольшим* значением:\n",
        "\n",
        "$\\hat{\\pi}_\\theta(s)=\\arg \\max \\limits_a\\ Q_{\\theta}(s, a)$\n",
        "\n",
        "Как и ранее, мы будем использовать хайку для создания нейронной сети для аппроксимации этой Q-функции. Сеть будет принимать наблюдение в качестве входных данных, а затем выводить Q-значение для каждого из доступных действий. Таким образом, в случае CartPole выход сети будет иметь размер $2$."
      ]
    },
    {
      "cell_type": "code",
      "execution_count": 59,
      "metadata": {
        "id": "9wU1soJYZyLp"
      },
      "outputs": [],
      "source": [
        "def build_network(num_actions: int, layers=[20, 20]) -> hk.Transformed:\n",
        "  \"\"\"Factory for a simple MLP network for approximating Q-values.\"\"\"\n",
        "\n",
        "  def q_network(obs):\n",
        "    network = hk.Sequential(\n",
        "        [hk.Flatten(),\n",
        "         hk.nets.MLP(layers + [num_actions])])\n",
        "    return network(obs)\n",
        "\n",
        "  return hk.without_apply_rng(hk.transform(q_network))"
      ]
    },
    {
      "cell_type": "markdown",
      "metadata": {
        "id": "sUwG-4qTS1zx"
      },
      "source": [
        "Давайте инициализируем нашу Q-сеть и получим начальные параметры."
      ]
    },
    {
      "cell_type": "code",
      "execution_count": 60,
      "metadata": {
        "id": "1uvq5n2cS9lu",
        "colab": {
          "base_uri": "https://localhost:8080/"
        },
        "outputId": "5d990f83-fbd4-45c7-d4ad-4781e866770d"
      },
      "outputs": [
        {
          "output_type": "stream",
          "name": "stdout",
          "text": [
            "Q-Learning params: dict_keys(['mlp/~/linear_0', 'mlp/~/linear_1', 'mlp/~/linear_2'])\n"
          ]
        }
      ],
      "source": [
        "# Initialise Q-network\n",
        "Q_NETWORK = build_network(num_actions=num_actions, layers=[20, 20]) # two actions\n",
        "\n",
        "dummy_obs = jnp.zeros((1,*obs_shape), jnp.float32) # a dummy observation like the one in CartPole\n",
        "\n",
        "random_key = jax.random.PRNGKey(42) # random key\n",
        "Q_NETWORK_PARAMS = Q_NETWORK.init(random_key, dummy_obs) # Get initial params\n",
        "\n",
        "print(\"Q-Learning params:\", Q_NETWORK_PARAMS.keys())"
      ]
    },
    {
      "cell_type": "markdown",
      "metadata": {
        "id": "iqCUeZfhEfyP"
      },
      "source": [
        "Прежде чем мы реализуем функцию потерь, необходимую для обучения нашей Q-сети, давайте сначала обсудим интуицию, стоящую за ней."
      ]
    },
    {
      "cell_type": "markdown",
      "metadata": {
        "id": "vbLig3uSZyLp"
      },
      "source": [
        "### The Bellman Equations (Уравнения Беллмана)\n",
        "Функция значения может быть записана рекурсивно как:\n",
        "\n",
        "$Q_{\\pi}(s, a) =\\underset{s^{\\prime} \\sim P}{\\mathrm{E}}\\left[r(s, a)+ \\underset{a^{\\prime} \\sim \\pi}{\\mathrm{E}}\\left[Q_{\\pi}\\left(s^{\\prime}, a^{\\prime}\\right)\\right]\\right]$,\n",
        "\n",
        "где $s' \\sim P$ — это сокращение для обозначения того, что следующее состояние $s'$ выбирается из функции перехода среды $P(s'\\mid s,a)$. Интуитивно это уравнение говорит, что ценность действия $a$, которое вы предприняли в состоянии $s$, равна вознаграждению $r$, которое вы ожидаете получить, плюс ценность, которую вы ожидаете получить в следующем состоянии $s`$, в котором вы окажетесь, при условии, что вы выберете свое следующее действие $a`$ с политикой $\\pi$. Уравнение Беллмана для оптимальной функции ценности выглядит так:\n",
        "\n",
        "$Q_{*}(s, a) =\\underset{s^{\\prime} \\sim P}{\\mathrm{E}}\\left[r(s, a)+\\ \\underset{a^{\\prime}}{\\max}\\ Q_{*}(s^{\\prime}, a^{\\prime})\\right]$\n",
        "\n",
        "Обратите внимание, что вместо выбора вашего следующего действия $a`$ с политикой $\\pi$ мы выбираем действие с наибольшим значением Q.\n",
        "\n",
        "Более подробное обсуждение уравнений Беллмана можно найти на сайте [OpenAI Spinning Up](https://spinningup.openai.com/en/latest/spinningup/rl_intro.html)."
      ]
    },
    {
      "cell_type": "markdown",
      "metadata": {
        "id": "DsOJi5G8ZyLp"
      },
      "source": [
        "### The Bellman Backup (Резервное копирование Беллмана)\n",
        "\n",
        "Чтобы научиться аппроксимировать оптимальную функцию Q-значения, мы можем использовать правую часть уравнения Беллмана в качестве правила обновления. Другими словами, предположим, что у нас есть Q-сеть $Q_\\theta$, аппроксимированная с использованием параметров $\\theta$, тогда мы можем итеративно обновлять параметры таким образом, что\n",
        "\n",
        "$Q_\\theta(s,a)\\leftarrow r(s, a) + \\underset{a'}{\\max}\\ Q_\\theta(s', a')$.\n",
        "\n",
        "Интуитивно это означает, что аппроксимация Q-значения действия $a$ в состоянии $s$ должна быть обновлена ​​таким образом, чтобы она была ближе к равной вознаграждению, полученному от среды $r(s, a)$, плюс значение наилучшего возможного действия в следующем состоянии $s'$. Мы можем выполнить эту оптимизацию, минимизируя разницу между левой и правой частью относительно параметров $\\theta$, используя градиентный спуск. Мы можем измерить разницу между двумя значениями, используя [квадратичную ошибку](https://en.wikipedia.org/wiki/Mean_squared_error#Loss_function).\n",
        "\n",
        "**Упражнение 11:** Реализуйте функцию квадратичной ошибки.\n",
        "\n",
        "**Полезные функции**\n",
        "* `jax.numpy.square` ([docs](https://jax.readthedocs.io/en/latest/_autosummary/jax.numpy.square.html))"
      ]
    },
    {
      "cell_type": "code",
      "execution_count": 61,
      "metadata": {
        "id": "PTto__ohZyLp"
      },
      "outputs": [],
      "source": [
        "def compute_squared_error(pred, target):\n",
        "  # YOUR CODE\n",
        "  squared_error = jax.numpy.square(pred - target)\n",
        "  # END YOUR CODE\n",
        "\n",
        "  return squared_error"
      ]
    },
    {
      "cell_type": "code",
      "execution_count": 62,
      "metadata": {
        "id": "wGhX8XTFVPVU",
        "colab": {
          "base_uri": "https://localhost:8080/"
        },
        "outputId": "1b5e4821-0bd8-4c15-d41a-0de69eb8cb17"
      },
      "outputs": [
        {
          "output_type": "stream",
          "name": "stdout",
          "text": [
            "Looks good.\n"
          ]
        }
      ],
      "source": [
        "#@title Проверка упр 11 {display-mode: \"form\"}\n",
        "\n",
        "try:\n",
        "  result = compute_squared_error(1, 4)\n",
        "\n",
        "  if result != 9:\n",
        "    print(\"Your implementation looks wrong.\")\n",
        "  else:\n",
        "    print(\"Looks good.\")\n",
        "except Exception as e:\n",
        "  print(\"An Error Occured: {}\".format(e))"
      ]
    },
    {
      "cell_type": "markdown",
      "metadata": {
        "id": "ycpZVkgdZyLp"
      },
      "source": [
        "**Упражнение 12:** Реализуйте функцию, которая вычисляет **цель Беллмана** (правая часть уравнения Беллмана). Если эпизод находится на последнем временном шаге (т. е. done==1.0), то цель Беллмана должна быть равна награде, без дополнительного значения в конце.\n",
        "\n",
        "**Полезные функции**\n",
        "* `jax.numpy.max` ([docs](https://jax.readthedocs.io/en/latest/_autosummary/jax.numpy.max.html))"
      ]
    },
    {
      "cell_type": "code",
      "execution_count": 64,
      "metadata": {
        "id": "961_OllWZyLp"
      },
      "outputs": [],
      "source": [
        "# Bellman target\n",
        "def compute_bellman_target(reward, done, next_q_values):\n",
        "  \"\"\"A function to compute the bellman target.\n",
        "\n",
        "  Args:\n",
        "      reward: a scalar reward.\n",
        "      done: a scalar of value either 1.0 or 0.0, indicating if the transition is a terminal one.\n",
        "      next_q_values: a vector of q_values for the next state. One for each action.\n",
        "  Returns:\n",
        "      A scalar equal to the bellman target.\n",
        "\n",
        "  \"\"\"\n",
        "  # YOUR CODE\n",
        "  bellman_target = reward + jax.numpy.max(a=next_q_values) * (1.0 - done)\n",
        "  # END YOUR CODE\n",
        "\n",
        "  return bellman_target"
      ]
    },
    {
      "cell_type": "code",
      "execution_count": 65,
      "metadata": {
        "id": "E5RAhegOWAkC",
        "colab": {
          "base_uri": "https://localhost:8080/"
        },
        "outputId": "4fca2b39-d992-4612-d4c3-57889a9e6dd8"
      },
      "outputs": [
        {
          "output_type": "stream",
          "name": "stdout",
          "text": [
            "Looks good.\n"
          ]
        }
      ],
      "source": [
        "#@title Проверка упр 12 {display-mode: \"form\"}\n",
        "\n",
        "try:\n",
        "  # not done\n",
        "  result1 = compute_bellman_target(1, 0.0, np.array([3,2], \"float32\"))\n",
        "\n",
        "  # done\n",
        "  result2 = compute_bellman_target(1, 1.0, np.array([3,2], \"float32\"))\n",
        "\n",
        "  if result1 != 4 or result2 != 1:\n",
        "    print(\"Your implementation looks wrong.\")\n",
        "  else:\n",
        "    print(\"Looks good.\")\n",
        "except Exception as e:\n",
        "  print(\"An Error Occured: {}\".format(e))"
      ]
    },
    {
      "cell_type": "markdown",
      "metadata": {
        "id": "8sIjrHSJZyLq"
      },
      "source": [
        "Теперь мы можем объединить эти две функции, чтобы вычислить потерю для Q-обучения. Потери Q-обучения равны квадрату разницы между прогнозируемым значением Q действия и его соответствующей целью Беллмана.\n",
        "\n",
        "**Упражнение 13:** Реализуйте функцию потери Q-обучения."
      ]
    },
    {
      "cell_type": "code",
      "execution_count": 66,
      "metadata": {
        "id": "LJY_kpFcZyLq"
      },
      "outputs": [],
      "source": [
        "def q_learning_loss(q_values, action, reward, done, next_q_values):\n",
        "    \"\"\"Implementation of the Q-learning loss.T\n",
        "\n",
        "    Args:\n",
        "        q_values: a vector of Q-values, one for each action.\n",
        "        action: an integer, giving the action that was chosen. q_values[action] is the value of the chose action.\n",
        "        done: is a scalar that indicates if this is a terminal transition.\n",
        "        next_q_values: a vector of Q-values in the next state.\n",
        "    Returns:\n",
        "        The squared difference between the q_value of the chosen action and the bellman target.\n",
        "    \"\"\"\n",
        "    # YOUR CODE\n",
        "    chosen_action_q_value = q_values[action] # q_value of action, use array indexing\n",
        "    bellman_target = compute_bellman_target(done=done, next_q_values=next_q_values, reward=reward)\n",
        "    squared_error = compute_squared_error(pred=chosen_action_q_value, target=bellman_target)\n",
        "    # END YOUR CODE\n",
        "\n",
        "    return squared_error"
      ]
    },
    {
      "cell_type": "code",
      "execution_count": 67,
      "metadata": {
        "id": "1aZRn1qaWx2M",
        "colab": {
          "base_uri": "https://localhost:8080/"
        },
        "outputId": "4f77413f-3ada-4fa5-9793-8d85399b85d9"
      },
      "outputs": [
        {
          "output_type": "stream",
          "name": "stdout",
          "text": [
            "Looks good.\n"
          ]
        }
      ],
      "source": [
        "#@title Проверка упр 13 {display-mode: \"form\"}\n",
        "\n",
        "try:\n",
        "  result = q_learning_loss(np.array([3,2], \"float32\"), 1, 2, 0.0, np.array([3,2], \"float32\"))\n",
        "\n",
        "  if result != 9.0:\n",
        "    print(\"Your implementation looks wrong.\")\n",
        "  else:\n",
        "    print(\"Looks good.\")\n",
        "except Exception as e:\n",
        "  print(\"An Error Occured: {}\".format(e))"
      ]
    },
    {
      "cell_type": "markdown",
      "metadata": {
        "id": "b4YnSUfJZyLq"
      },
      "source": [
        "### Target Q-network (Целевая Q-сеть)\n",
        "Обратите внимание: когда мы вычисляем цель Беллмана, мы используем нашу Q-сеть $Q_\\theta$ для вычисления значения для следующего состояния $s_t$. По сути, мы используем наше последнее приближение Q-функции для вычисления цели нашего следующего приближения. Использование приближения для вычисления цели для вашего следующего приближения называется самозагрузкой. К сожалению, если мы наивно делаем такую ​​самозагрузку, это может сделать обучение нейронной сети очень нестабильным. Чтобы смягчить это, мы можем вместо этого использовать другой набор параметров $\\hat{\\theta}$ для вычисления значений в состоянии $s_{t+1}$. Мы будем сохранять параметры $\\hat{\\theta}$ фиксированными и только периодически обновлять их, чтобы они были равны последним онлайн-параметрам $\\theta$ каждые пару шагов обучения *(скажем, 100)*. Это позволяет сохранять фиксированные цели Беллмана для пары шагов обучения, чтобы помочь снизить нестабильность из-за самозагрузки.\n",
        "\n",
        "Нам нужно будет отслеживать последние (онлайн) параметры, а также параметры целевых сетей. Давайте создадим `NamedTuple` для хранения этих двух значений. Нам также нужно будет отслеживать количество шагов обучения, которые мы сделали, чтобы знать, когда обновлять целевую сеть. Давайте сохраним `count` шагов обучения в `learn_state`."
      ]
    },
    {
      "cell_type": "code",
      "execution_count": 68,
      "metadata": {
        "id": "DvZqUKmq6L7k"
      },
      "outputs": [],
      "source": [
        "# Store online and target parameters\n",
        "QLearnParams = collections.namedtuple(\"Params\", [\"online\", \"target\"])\n",
        "\n",
        "# Q-learn-state\n",
        "QLearnState = collections.namedtuple(\"LearnerState\", [\"count\", \"optim_state\"])"
      ]
    },
    {
      "cell_type": "markdown",
      "metadata": {
        "id": "CJWH2_kNZsau"
      },
      "source": [
        "Мы снова будем использовать Optax для оптимизации нашей нейронной сети в JAX. Мы сохраняем состояние оптимизатора в `learn_state` выше. Давайте теперь создадим экземпляр оптимизатора и добавим начальные параметры Q-сети в объект `QLearnParams`."
      ]
    },
    {
      "cell_type": "code",
      "execution_count": 69,
      "metadata": {
        "id": "HwqKTN6BaAXE"
      },
      "outputs": [],
      "source": [
        "# Initialise Q-network optimizer\n",
        "Q_LEARN_OPTIMIZER = optax.adam(3e-4) # learning rate\n",
        "\n",
        "Q_LEARN_OPTIM_STATE = Q_LEARN_OPTIMIZER.init(Q_NETWORK_PARAMS) # initial optim state\n",
        "\n",
        "# Create Learn State\n",
        "Q_LEARNING_LEARN_STATE = QLearnState(0, Q_LEARN_OPTIM_STATE) # count set to zero initially\n",
        "\n",
        "# Add initial Q-network weights to QLearnParams object\n",
        "Q_LEARNING_PARAMS = QLearnParams(online=Q_NETWORK_PARAMS, target=Q_NETWORK_PARAMS) # target equal to online"
      ]
    },
    {
      "cell_type": "markdown",
      "metadata": {
        "id": "xj89M8LgZlFe"
      },
      "source": [
        "Теперь мы можем реализовать простую функцию, которая обновляет параметры целевых сетей, чтобы они соответствовали последним онлайн-параметрам каждые 100 шагов обучения."
      ]
    },
    {
      "cell_type": "code",
      "execution_count": 70,
      "metadata": {
        "id": "SKrg_3rO6cCL"
      },
      "outputs": [],
      "source": [
        "def update_target_params(learn_state, online_weights, target_weights):\n",
        "  \"\"\"A function to update target params every 100 training steps\"\"\"\n",
        "\n",
        "  target = jax.lax.cond(\n",
        "      jax.numpy.mod(learn_state.count, 100) == 0,\n",
        "      lambda x, y: x,\n",
        "      lambda x, y: y,\n",
        "      online_weights,\n",
        "      target_weights\n",
        "  )\n",
        "\n",
        "  params = QLearnParams(online_weights, target)\n",
        "\n",
        "  return params"
      ]
    },
    {
      "cell_type": "markdown",
      "metadata": {
        "id": "KoiaYSo9ZyLq"
      },
      "source": [
        "### Q-learning loss (Функция потери Q-обучения)\n",
        "Теперь у нас есть все необходимое для реализации функции `q_learn`, которая принимает некоторую партию переходов и выполняет шаг Q-обучения для обновления параметров сети. Но сначала мы используем `jax.vmap` для изменения функции `q_learning_loss` так, чтобы она принимала партии переходов. Кроме того, мы вычислим Q-значения, передавая наблюдения через `Q_NETWORK`, и целевые Q-значения, используя целевые параметры `Q_NETWORK`."
      ]
    },
    {
      "cell_type": "code",
      "execution_count": 71,
      "metadata": {
        "id": "hnrsGppWZyLq"
      },
      "outputs": [],
      "source": [
        "def batched_q_learning_loss(online_params, target_params, obs, actions, rewards, next_obs, dones):\n",
        "    q_values = Q_NETWORK.apply(online_params, obs) # use the online parameters\n",
        "    next_q_values = Q_NETWORK.apply(target_params, next_obs) # use the target parameters\n",
        "    squared_error = jax.vmap(q_learning_loss)(q_values, actions, rewards, dones, next_q_values) # vmap q_learning_loss\n",
        "    mean_squared_error = jnp.mean(squared_error) # mean squared error over batch\n",
        "    return mean_squared_error"
      ]
    },
    {
      "cell_type": "markdown",
      "metadata": {
        "id": "CU8vo9ZebnEa"
      },
      "source": [
        "Теперь мы можем создать функцию `q_learn`, которая вычисляет градиент `batched_q_learning_loss`, а затем использует оптимизатор Optax для обновления весов сети, а затем, наконец (возможно), обновляет целевые параметры."
      ]
    },
    {
      "cell_type": "code",
      "execution_count": 72,
      "metadata": {
        "id": "6BYoX2W_ZyLr"
      },
      "outputs": [],
      "source": [
        "def q_learn(rng, params, learner_state, memory):\n",
        "  # Compute gradients\n",
        "  grad_loss = jax.grad(batched_q_learning_loss)(params.online, params.target, memory.obs,\n",
        "                                          memory.action, memory.reward,\n",
        "                                          memory.next_obs, memory.done,\n",
        "                                          ) # jax.grad\n",
        "\n",
        "  # Get updates\n",
        "  updates, opt_state = Q_LEARN_OPTIMIZER.update(grad_loss, learner_state.optim_state)\n",
        "\n",
        "  # Apply them\n",
        "  new_weights = optax.apply_updates(params.online, updates)\n",
        "\n",
        "  # Maybe update target network\n",
        "  params = update_target_params(learner_state, new_weights, params.target)\n",
        "\n",
        "  # Increment learner step counter\n",
        "  learner_state = QLearnState(learner_state.count + 1, opt_state)\n",
        "\n",
        "  return params, learner_state"
      ]
    },
    {
      "cell_type": "markdown",
      "metadata": {
        "id": "VpZsKHssZyLq"
      },
      "source": [
        "### Replay Buffer (Буфер воспроизведения)\n",
        "Для Q-обучения нам понадобится память агента, которая хранит целые переходы: `obs`, `action`, `reward`, `next_obs`, `done`. Когда мы извлекаем переходы из памяти, они должны выбираться случайным образом из всех переходов, собранных до сих пор. В RL мы часто называем такой модуль **буфером воспроизведения**.\n",
        "\n",
        "Одним из преимуществ использования такого буфера воспроизведения является то, что опыт можно повторно использовать несколько раз для обучения, в отличие от алгоритма градиента политики REINFORCE, где мы отбрасывали воспоминания после их использования для обучения."
      ]
    },
    {
      "cell_type": "code",
      "execution_count": 73,
      "metadata": {
        "id": "8tv5dUH6ZyLr"
      },
      "outputs": [],
      "source": [
        "class TransitionMemory(object):\n",
        "  \"\"\"A simple Python replay buffer.\"\"\"\n",
        "\n",
        "  def __init__(self, max_size=10_000, batch_size=256):\n",
        "    self.batch_size = batch_size\n",
        "    self.buffer = collections.deque(maxlen=max_size)\n",
        "\n",
        "  def push(self, transition):\n",
        "\n",
        "    # add transition to the replay buffer\n",
        "    self.buffer.append(\n",
        "        (transition.obs, transition.action, transition.reward,\n",
        "          transition.next_obs, transition.done)\n",
        "    )\n",
        "\n",
        "\n",
        "  def is_ready(self):\n",
        "    return self.batch_size <= len(self.buffer)\n",
        "\n",
        "  def sample(self):\n",
        "    # Randomly sample a batch of transitions from the buffer\n",
        "    random_replay_sample = random.sample(self.buffer, self.batch_size)\n",
        "\n",
        "    # Batch the transitions together\n",
        "    obs_batch, action_batch, reward_batch, next_obs_batch, done_batch = zip(*random_replay_sample)\n",
        "\n",
        "    return Transition(\n",
        "        np.stack(obs_batch).astype(\"float32\"),\n",
        "        np.asarray(action_batch).astype(\"int32\"),\n",
        "        np.asarray(reward_batch).astype(\"float32\"),\n",
        "        np.stack(next_obs_batch).astype(\"float32\"),\n",
        "        np.asarray(done_batch).astype(\"float32\")\n",
        "    )\n",
        "\n",
        "# Instantiate the memory\n",
        "Q_LEARNING_MEMORY = TransitionMemory(max_size=50_000, batch_size=256)"
      ]
    },
    {
      "cell_type": "markdown",
      "metadata": {
        "id": "XbHk03VVUHAV"
      },
      "source": [
        "### Случайное исследование\n",
        "У нас почти есть все, что нужно для функционирующего агента Q-обучения. Но одна проблема заключается в том, что если мы всегда выбираем действие с наивысшим значением Q, то политика агента будет полностью [детерминированной](https://www.quora.com/What-is-the-intuitive-difference-between-a-stochastic-model-and-a-deterministic-model). Это означает, что агент всегда будет выбирать одну и ту же стратегию. Это может представлять проблему, поскольку в начале обучения Q-сеть будет очень неточной (т. е. плохой аппроксимацией истинной Q-функции). Таким образом, агент будет последовательно выбирать неоптимальные действия. Более того, агент никогда не отклонится от своей неоптимальной стратегии и никогда не обнаружит новые, потенциально более полезные действия. В результате Q-сеть остается неточной. В идеале агент должен опробовать много разных стратегий, чтобы он мог наблюдать результаты (вознаграждения) своих действий в разных состояниях и таким образом улучшить приближение Q-функции.\n",
        "\n",
        "Один простой способ гарантировать, что агент опробует много разных действий, — позволить ему периодически выбирать некоторые случайные действия вместо жадного (лучшего) действия все время.\n",
        "\n",
        "**Упражнение 14:** Реализуйте функцию, которая, учитывая количество возможных (дискретных) действий, возвращает случайное действие.\n",
        "\n",
        "**Полезные методы:**\n",
        "\n",
        "*  `jax.random.randint` ([docs](https://jax.readthedocs.io/en/latest/_autosummary/jax.random.randint.html))"
      ]
    },
    {
      "cell_type": "code",
      "execution_count": 74,
      "metadata": {
        "id": "uUKkpMLXUtko"
      },
      "outputs": [],
      "source": [
        "def select_random_action(key, num_actions):\n",
        "\n",
        "    # YOUR CODE\n",
        "    action = jax.random.randint(key=key, minval=0, maxval=num_actions, shape=())\n",
        "    # END YOUR CODE\n",
        "\n",
        "    return action"
      ]
    },
    {
      "cell_type": "code",
      "execution_count": 75,
      "metadata": {
        "id": "NO6va6S2Y40E",
        "colab": {
          "base_uri": "https://localhost:8080/"
        },
        "outputId": "43ea2526-2fcb-4226-8f65-b2e4c2b7ffa9"
      },
      "outputs": [
        {
          "output_type": "stream",
          "name": "stdout",
          "text": [
            "Looks good.\n"
          ]
        }
      ],
      "source": [
        "#@title Проверка упр 14 {display-mode: \"form\"}\n",
        "\n",
        "try:\n",
        "  random_key1 = random_key = jax.random.PRNGKey(6) # random key\n",
        "  random_key2 = random_key = jax.random.PRNGKey(1000) # random key\n",
        "  result1 = select_random_action(random_key1, 2)\n",
        "  result2 = select_random_action(random_key2, 2)\n",
        "\n",
        "  if result1 != 1 or result2 != 0:\n",
        "    print(\"Your implementation looks wrong.\")\n",
        "  else:\n",
        "    print(\"Looks good.\")\n",
        "except:\n",
        "  print(\"Your implementation looks wrong.\")"
      ]
    },
    {
      "cell_type": "markdown",
      "metadata": {
        "id": "8-kKDFT6XU6y"
      },
      "source": [
        "### $\\varepsilon$-greedy action selection (эпсилон жадный выбор действия)\n",
        "В начале обучения, когда точность Q-сети низкая, агенту стоит в основном совершать случайные действия, чтобы он мог узнать, насколько хороши/плохи действия. Однако по мере повышения точности Q-сети агент должен начать совершать меньше случайных действий и вместо этого начать выбирать жадные действия относительно Q-значений. Выбор лучших действий с учетом текущей Q-сети называется **эксплуатацией**. В RL мы часто называем отношение случайных и жадных действий **эпсилоном** $\\varepsilon$. Эпсилон обычно представляет собой десятичное значение в интервале $[0,1]$, где, например, $\\varepsilon=0.4$ означает, что агент выбирает случайное действие в 40% случаев, а жадное действие — в 60% случаев. В RL принято линейно уменьшать значение эпсилон с течением времени, так что агент становится все более жадным по мере повышения точности его Q-сети в процессе обучения.\n",
        "\n",
        "**Упражнение 15:** Реализуйте функцию, которая принимает количество временных шагов в качестве входных данных и возвращает текущее значение эпсилон."
      ]
    },
    {
      "cell_type": "code",
      "execution_count": 76,
      "metadata": {
        "id": "_qejnbCocurG"
      },
      "outputs": [],
      "source": [
        "EPSILON_DECAY_TIMESTEPS = 3000 # decay epsilon over 3000 timesteps\n",
        "EPSILON_MIN = 0.1 # 10% exploration"
      ]
    },
    {
      "cell_type": "code",
      "execution_count": 77,
      "metadata": {
        "id": "5ujSbssCZyLs"
      },
      "outputs": [],
      "source": [
        "def get_epsilon(num_timesteps):\n",
        "  # YOUR CODE\n",
        "  epsilon = 1.0 - (num_timesteps / EPSILON_DECAY_TIMESTEPS) # decay epsilon\n",
        "\n",
        "  epsilon = jax.lax.select(\n",
        "      epsilon < EPSILON_MIN,\n",
        "      EPSILON_MIN, # if less than min then set to min\n",
        "      epsilon # else don't change epsilon\n",
        "  )\n",
        "  # END YOUR CODE\n",
        "\n",
        "  return epsilon"
      ]
    },
    {
      "cell_type": "code",
      "execution_count": 78,
      "metadata": {
        "id": "hvu4zA64aUou",
        "colab": {
          "base_uri": "https://localhost:8080/"
        },
        "outputId": "bc36c520-ad0f-447d-96a4-56f516c6f56d"
      },
      "outputs": [
        {
          "output_type": "stream",
          "name": "stdout",
          "text": [
            "Your function looks correct.\n"
          ]
        }
      ],
      "source": [
        "#@title Проверка упр 15 {display-mode: \"form\"}\n",
        "def check_get_epsilon(get_epsilon):\n",
        "  try:\n",
        "    result1 = get_epsilon(10)\n",
        "    result2 = get_epsilon(5_010)\n",
        "\n",
        "    if result1 != 0.99666667 or result2 != 0.1:\n",
        "      print(\"Your function looks wrong.\")\n",
        "    else:\n",
        "      print(\"Your function looks correct.\")\n",
        "  except:\n",
        "    print(\"Your function looks wrong.\")\n",
        "\n",
        "check_get_epsilon(get_epsilon)\n"
      ]
    },
    {
      "cell_type": "markdown",
      "metadata": {
        "id": "t56oo58TVQ_s"
      },
      "source": [
        "**Упражнение 16:** Теперь давайте объединим эти функции для выполнения эпсилон-жадного выбора действия."
      ]
    },
    {
      "cell_type": "code",
      "execution_count": 79,
      "metadata": {
        "id": "NlQx8K4vKUXj"
      },
      "outputs": [],
      "source": [
        "def select_epsilon_greedy_action(key, q_values, num_timesteps):\n",
        "    num_actions = len(q_values) # number of available actions\n",
        "\n",
        "    # YOUR CODE HERE\n",
        "    epsilon = get_epsilon(num_timesteps) # get epsilon value\n",
        "\n",
        "    should_explore = jax.random.uniform(key, shape=()) < epsilon # hint: a boolean expression to check if some random number is less than epsilon\n",
        "\n",
        "    explore_action = select_random_action(key, num_actions)\n",
        "    greedy_action = jax.numpy.argmax(q_values)\n",
        "\n",
        "    action = jax.lax.select(\n",
        "        should_explore,\n",
        "        explore_action, # if should explore\n",
        "        greedy_action # if should be greedy\n",
        "    )\n",
        "    # END YOUR CODE\n",
        "\n",
        "    return action"
      ]
    },
    {
      "cell_type": "code",
      "execution_count": 80,
      "metadata": {
        "id": "mkVU2a5e7P6b",
        "colab": {
          "base_uri": "https://localhost:8080/"
        },
        "outputId": "3f2ed719-836c-4668-cabd-ed0b9345ed5a"
      },
      "outputs": [
        {
          "output_type": "stream",
          "name": "stdout",
          "text": [
            "Looks correct!\n"
          ]
        }
      ],
      "source": [
        "#@title Проверка упражнения 16 {display-mode: \"form\"}\n",
        "\n",
        "try:\n",
        "  rng = hk.PRNGSequence(jax.random.PRNGKey(42))\n",
        "  dummy_q_values = jnp.array([0,1], jnp.float32)\n",
        "  num_timesteps = 5010 # very greedy\n",
        "  actions1 = []\n",
        "  for i in range(10):\n",
        "      actions1.append(int(select_epsilon_greedy_action(next(rng), dummy_q_values, num_timesteps)))\n",
        "\n",
        "  num_timesteps = 0 # completly random\n",
        "  actions2 = []\n",
        "  for i in range(10):\n",
        "      actions2.append(int(select_epsilon_greedy_action(next(rng), dummy_q_values, num_timesteps)))\n",
        "\n",
        "  if actions1 != [1, 1, 0, 1, 1, 0, 1, 1, 1, 1] or actions2 != [0, 0, 0, 1, 1, 1, 1, 0, 0, 0]:\n",
        "    print(\"Looks like something might be incorrect!\")\n",
        "  else:\n",
        "    print(\"Looks correct!\")\n",
        "except:\n",
        "  print(\"Looks like something might be incorrect!\")"
      ]
    },
    {
      "cell_type": "markdown",
      "metadata": {
        "id": "y5W23MnobN9x"
      },
      "source": [
        "### Действие выбора Q-learning\n",
        "\n",
        "Теперь у нас есть все необходимое для создания функции `q_learning_select_action`. Мы будем использовать `actor_state` для хранения счетчика, который отслеживает текущее количество временных шагов. Мы можем использовать счетчик для уменьшения нашего значения `epsilon`."
      ]
    },
    {
      "cell_type": "code",
      "execution_count": 81,
      "metadata": {
        "id": "81TysLc0RjM6"
      },
      "outputs": [],
      "source": [
        "# Actor state stores the current number of timesteps\n",
        "QActorState = collections.namedtuple(\"ActorState\", [\"count\"])\n",
        "\n",
        "def q_learning_select_action(key, params, actor_state, obs, evaluation=False):\n",
        "    obs = jnp.expand_dims(obs, axis=0) # add dummy batch dim\n",
        "    q_values = Q_NETWORK.apply(params.online, obs)[0] # remove batch dim\n",
        "\n",
        "    action = select_epsilon_greedy_action(key, q_values, actor_state.count)\n",
        "    greedy_action = select_greedy_action(q_values)\n",
        "\n",
        "    action = jax.lax.select(\n",
        "        evaluation,\n",
        "        greedy_action,\n",
        "        action\n",
        "    )\n",
        "\n",
        "    next_actor_state = QActorState(actor_state.count + 1) # increment timestep counter\n",
        "\n",
        "    return action, next_actor_state\n",
        "\n",
        "Q_LEARNING_ACTOR_STATE = QActorState(0) # counter set to zero"
      ]
    },
    {
      "cell_type": "markdown",
      "metadata": {
        "id": "z884-1oNRGEr"
      },
      "source": [
        "### Обучение\n",
        "Теперь мы можем собрать все вместе, используя цикл агент-среда. Но сначала давайте объединим функцию выбора действия и функцию обучения для дополнительной скорости."
      ]
    },
    {
      "cell_type": "code",
      "execution_count": 82,
      "metadata": {
        "id": "xbdHDbd1RjM8",
        "colab": {
          "base_uri": "https://localhost:8080/",
          "height": 680
        },
        "outputId": "456d206d-8867-41be-c35e-1aad507d1ab7"
      },
      "outputs": [
        {
          "output_type": "stream",
          "name": "stdout",
          "text": [
            "Starting training. This may take up to 8 minutes to complete.\n",
            "Episode: 0\tEpisode Return: 16.0\tAverage Episode Return: 16.0\tEvaluator Episode Return: 10.0\n",
            "Episode: 100\tEpisode Return: 14.0\tAverage Episode Return: 13.85\tEvaluator Episode Return: 9.25\n",
            "Episode: 200\tEpisode Return: 12.0\tAverage Episode Return: 9.45\tEvaluator Episode Return: 9.375\n",
            "Episode: 300\tEpisode Return: 11.0\tAverage Episode Return: 9.65\tEvaluator Episode Return: 9.25\n",
            "Episode: 400\tEpisode Return: 13.0\tAverage Episode Return: 10.65\tEvaluator Episode Return: 15.5\n",
            "Episode: 500\tEpisode Return: 54.0\tAverage Episode Return: 83.15\tEvaluator Episode Return: 149.5\n",
            "Episode: 600\tEpisode Return: 200.0\tAverage Episode Return: 158.7\tEvaluator Episode Return: 170.375\n",
            "Episode: 700\tEpisode Return: 76.0\tAverage Episode Return: 78.6\tEvaluator Episode Return: 94.75\n",
            "Episode: 800\tEpisode Return: 92.0\tAverage Episode Return: 98.35\tEvaluator Episode Return: 148.375\n",
            "Episode: 900\tEpisode Return: 200.0\tAverage Episode Return: 178.85\tEvaluator Episode Return: 187.625\n",
            "Episode: 1000\tEpisode Return: 17.0\tAverage Episode Return: 33.35\tEvaluator Episode Return: 16.875\n"
          ]
        },
        {
          "output_type": "display_data",
          "data": {
            "text/plain": [
              "<Figure size 640x480 with 1 Axes>"
            ],
            "image/png": "[encoded data removed]"
          },
          "metadata": {}
        }
      ],
      "source": [
        "# Jit functions\n",
        "q_learning_select_action_jit = jax.jit(q_learning_select_action)\n",
        "q_learn_jit = jax.jit(q_learn)\n",
        "\n",
        "# Run environment loop\n",
        "print(\"Starting training. This may take up to 8 minutes to complete.\")\n",
        "episode_returns, evaluator_returns = run_training_loop(\n",
        "                                        env_name,\n",
        "                                        Q_LEARNING_PARAMS,\n",
        "                                        q_learning_select_action_jit,\n",
        "                                        Q_LEARNING_ACTOR_STATE,\n",
        "                                        q_learn_jit,\n",
        "                                        Q_LEARNING_LEARN_STATE,\n",
        "                                        Q_LEARNING_MEMORY,\n",
        "                                        num_episodes=1001,\n",
        "                                        train_every_timestep=True, # do learning after every timestep\n",
        "                                        video_subdir=\"q_learning\"\n",
        "                                    )\n",
        "\n",
        "plt.plot(episode_returns)\n",
        "plt.xlabel(\"Episodes\")\n",
        "plt.ylabel(\"Episode Return\")\n",
        "plt.title(\"Deep Q-Learning\")\n",
        "plt.show()"
      ]
    },
    {
      "cell_type": "markdown",
      "metadata": {
        "id": "2k0-41wbpFDE"
      },
      "source": [
        "На этом этапе, как мы надеемся, приближенная Q-функция сошлась к приемлемой политике балансировки шеста в задаче CartPole."
      ]
    },
    {
      "cell_type": "code",
      "execution_count": 83,
      "metadata": {
        "id": "t4v0ZbB4FQUs",
        "colab": {
          "base_uri": "https://localhost:8080/",
          "height": 288
        },
        "outputId": "179e4069-f88a-482f-a652-3bd50a48b9ad"
      },
      "outputs": [
        {
          "output_type": "execute_result",
          "data": {
            "text/plain": [
              "<IPython.core.display.HTML object>"
            ],
            "text/html": [
              "\n",
              "<video width=400 controls>\n",
              "      <source src=\"data:video/mp4;base64,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\" type=\"video/mp4\">\n",
              "</video>\n"
            ]
          },
          "metadata": {},
          "execution_count": 83
        }
      ],
      "source": [
        "#@title Визуализация политики\n",
        "#@markdown Выберите номер эпизода, кратный 100 и меньший или равный 1000, и **запустите эту ячейку**.\n",
        "episode_number = 600 #@param {type:\"number\"}\n",
        "\n",
        "assert (episode_number % 100) == 0, \"Episode number must be a multiple of 100 since we only record every 100th episode.\"\n",
        "assert episode_number < 1001, \"Episode number must be less than or equal to 1000\"\n",
        "\n",
        "\n",
        "eval_episode_number = int(episode_number / 100 * 8)\n",
        "video_path = f\"./video/q_learning/eval/rl-video-episode-{eval_episode_number}.mp4\"\n",
        "\n",
        "mp4 = open(video_path,'rb').read()\n",
        "data_url = \"data:video/mp4;base64,\" + b64encode(mp4).decode()\n",
        "HTML(\"\"\"\n",
        "<video width=400 controls>\n",
        "      <source src=\"%s\" type=\"video/mp4\">\n",
        "</video>\n",
        "\"\"\" % data_url)"
      ]
    },
    {
      "cell_type": "markdown",
      "metadata": {
        "id": "fV3YG7QOZD-B"
      },
      "source": [
        "Кроме того, существует множество алгоритмов RL, которые вносят существенные улучшения в REINFORCE и Deep Q-Learning. См. эти ресурсы:\n",
        "* [REINFORCE с базовым уровнем](https://spinningup.openai.com/en/latest/spinningup/rl_intro3.html#baselines-in-policy-gradients)\n",
        "* [Double Deep Q-Network](https://arxiv.org/pdf/1509.06461.pdf)\n",
        "* [Proximal Policy Optimisation (PPO)](https://arxiv.org/pdf/1707.06347.pdf)\n",
        "\n",
        "Если вы ищете более углубленный онлайн-курс по RL, вы можете ознакомиться с этими курсами:\n",
        "* [Reinforcement Learning Foundations on LinkedIn Learning](https://www.linkedin.com/learning/reinforcement-learning-foundations) (создано одним из наших собственных преподавателей, Хаулатом Абдулхакимом)\n",
        "* [Введение в Reinforcement Learning on FreeCodeCamp](https://www.freecodecamp.org/news/an-introduction-to-reinforcement-learning-4339519de419/)\n",
        "* [Специализация обучения с подкреплением на Coursera](https://www.coursera.org/specializations/reinforcement-learning)\n",
        "\n",
        "Наконец, самый влиятельный учебник по обучению с подкреплением доступен бесплатно онлайн:\n",
        "* [Обучение с подкреплением: введение](http://incompleteideas.net/book/the-book-2nd.html) Ричарда С. Саттона и Эндрю Г. Барто\n",
        "\n",
        "\n",
        "**Ссылки:**\n",
        "\n",
        "* [OpenAI Spinning Up](https://spinningup.openai.com/en/latest/)\n",
        "* [Deep Q-Network]()"
      ]
    },
    {
      "cell_type": "code",
      "source": [],
      "metadata": {
        "id": "6V47Vd_i3qk7"
      },
      "execution_count": null,
      "outputs": []
    }
  ],
  "metadata": {
    "colab": {
      "provenance": [],
      "gpuType": "T4"
    },
    "kernelspec": {
      "display_name": "Python 3",
      "name": "python3"
    },
    "language_info": {
      "codemirror_mode": {
        "name": "ipython",
        "version": 3
      },
      "file_extension": ".py",
      "mimetype": "text/x-python",
      "name": "python",
      "nbconvert_exporter": "python",
      "pygments_lexer": "ipython3",
      "version": "3.8.13"
    },
    "vscode": {
      "interpreter": {
        "hash": "0f35138c66f99be0fd7a1210bb4aa94a6fbaa5f29d51ad43aec0e0ea0ff050f0"
      }
    }
  },
  "nbformat": 4,
  "nbformat_minor": 0
}